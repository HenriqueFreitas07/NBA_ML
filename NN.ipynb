{
 "cells": [
  {
   "cell_type": "markdown",
   "id": "97e2e2bb",
   "metadata": {},
   "source": [
    "# Player Neural Network\n",
    "We are going on an approach to deduce a \"worth\" or overall quantitative value to a player during a regular season in order to later make a prediction based on."
   ]
  },
  {
   "cell_type": "markdown",
   "id": "1f5f330d",
   "metadata": {},
   "source": [
    "## Utils"
   ]
  },
  {
   "cell_type": "code",
   "execution_count": 2,
   "id": "833bcb44",
   "metadata": {},
   "outputs": [],
   "source": [
    "def convert_min_to_float(min_str):\n",
    "    if isinstance(min_str, str) and ':' in min_str:\n",
    "        mins, secs = map(int, min_str.split(':'))\n",
    "        return mins + secs / 60\n",
    "    return 0.0  # handle empty or malformed entries"
   ]
  },
  {
   "cell_type": "code",
   "execution_count": 3,
   "id": "fcdd66ba",
   "metadata": {},
   "outputs": [],
   "source": [
    "def convert_int_season_to_str(season):\n",
    "    if isinstance(season, int):\n",
    "        return f\"{season}-{season%2000 +1 :02d}\" \n",
    "    return season"
   ]
  },
  {
   "cell_type": "code",
   "execution_count": 4,
   "id": "fbc0aec4",
   "metadata": {},
   "outputs": [],
   "source": [
    "# make me a function that will print the number of unique values in each column of the dataframe\n",
    "def print_unique_values(df):\n",
    "    for column in df.columns:\n",
    "        print(f\"{column}: {len(df[column].unique())} unique {column}\")\n"
   ]
  },
  {
   "cell_type": "markdown",
   "id": "97c487cf",
   "metadata": {},
   "source": [
    "# Imports "
   ]
  },
  {
   "cell_type": "code",
   "execution_count": 5,
   "id": "3165e5e5",
   "metadata": {},
   "outputs": [
    {
     "name": "stdout",
     "output_type": "stream",
     "text": [
      "Requirement already satisfied: xgboost in /Users/hfreitas07/anaconda3/lib/python3.12/site-packages (3.0.0)\n",
      "Requirement already satisfied: numpy in /Users/hfreitas07/anaconda3/lib/python3.12/site-packages (from xgboost) (1.26.4)\n",
      "Requirement already satisfied: scipy in /Users/hfreitas07/anaconda3/lib/python3.12/site-packages (from xgboost) (1.13.1)\n",
      "Note: you may need to restart the kernel to use updated packages.\n"
     ]
    }
   ],
   "source": [
    "# to install xgboost on the notebook environment\n",
    "%pip install xgboost"
   ]
  },
  {
   "cell_type": "code",
   "execution_count": 6,
   "id": "e3229ab4",
   "metadata": {},
   "outputs": [],
   "source": [
    "import pandas as pd\n",
    "import matplotlib.pyplot as plt\n",
    "import numpy as np\n",
    "import seaborn as sns\n",
    "import itertools \n",
    "import sklearn\n",
    "import xgboost as xgb\n",
    "\n",
    "pd.set_option('future.no_silent_downcasting', True)"
   ]
  },
  {
   "cell_type": "code",
   "execution_count": 7,
   "id": "69654085",
   "metadata": {},
   "outputs": [],
   "source": [
    "NUM_GAMES=82\n",
    "teams=['DAL','MIL','ATL','DEN','HOU','IND','OKC','CHI','ORL','BOS','DET','NYK'\n",
    ",'CHA','LAL','SAC','MIA','LAC','GSW','POR','MIN','WAS','BKN','MEM','SAS'\n",
    ",'PHX','NOP','UTA','TOR','PHI','CLE']\n",
    "all_possible_matchups=itertools.combinations(teams, 2)\n",
    "regular_games_total=pd.read_csv(\"./datasets/NBA_DATA_2010_2024/regular_season_totals_2010_2024.csv\",delimiter=',',header=0)\n",
    "regular_season_all_parts=pd.concat([\n",
    "        pd.read_csv(\"./datasets/NBA_DATA_2010_2024/regular_season_box_scores_2010_2024_part_1.csv\",delimiter=',',header=0),\n",
    "        pd.read_csv(\"./datasets/NBA_DATA_2010_2024/regular_season_box_scores_2010_2024_part_2.csv\",delimiter=',',header=0),\n",
    "        pd.read_csv(\"./datasets/NBA_DATA_2010_2024/regular_season_box_scores_2010_2024_part_3.csv\",delimiter=',',header=0)])"
   ]
  },
  {
   "cell_type": "markdown",
   "id": "1afa41e0",
   "metadata": {},
   "source": [
    "# NBA facts\n",
    "Regular season each team makes 82 games.\n",
    "The Best 8 teams of each conference (WEST & EAST), makes to the playoffs.\n",
    "The goal with this model is to predict the probability of the winning a game between a specific matchup.\n",
    "## Important Game Features \n",
    "- Home/ Away Game \n",
    "- Players List \n",
    "## Important Player Features\n",
    "- season (season_year)\n",
    "- time played (MIN)\n",
    "- Field Goal Made (fieldGoalsMade)\n",
    "- Field Goal Percentage (fieldGoalsPercentage)\n",
    "- Field Goal Made 3PT (treePointersMade)\n",
    "- Field Goal Percentage 3PT (threePointersPercentage)\n",
    "- Free throw made (freeThrowsMade)\n",
    "- Free Throw (percentagefreeThrowsPercentage)\n",
    "- assists\n",
    "- rebounds \n",
    "- steals \n",
    "- turnovers\n",
    "- foulsPersonal\n",
    "- blocks \n",
    "- points \n",
    "- plusMinusPoints"
   ]
  },
  {
   "cell_type": "code",
   "execution_count": 8,
   "id": "79aa1f3e",
   "metadata": {},
   "outputs": [],
   "source": [
    "def getMatchAndPlayerStats(game,player,season=None,teamname=None):\n",
    "    \"\"\"\n",
    "    Function to get the average points of a team in a season\n",
    "    :param teamname: team name :List[str]\n",
    "    :param season: season: str or int or None (for all seasons) \n",
    "    :return: average points of the team \n",
    "    \"\"\"\n",
    "    season=convert_int_season_to_str(season)\n",
    "    playerScores = player[player['minutes'].notna()].copy()\n",
    "    playerScores['minutesParsed'] = playerScores['minutes'].apply(convert_min_to_float)\n",
    "    game.loc[:,'WL'] = game['WL'].replace({'W': 1, 'L': 0}).infer_objects(copy=False)\n",
    "    gamePlayer=game.merge(playerScores, how='inner', left_on=['GAME_ID','TEAM_ABBREVIATION'], right_on=['gameId','teamTricode'])\n",
    "    # add a collumn to count the number of games played by each player\n",
    "    aggregation= gamePlayer.groupby(['personName','teamTricode','season_year']).agg(\n",
    "        {\n",
    "            'WL': 'sum',\n",
    "            'plusMinusPoints':'mean',\n",
    "            'minutesParsed': 'mean',\n",
    "            'assists': 'mean',\n",
    "            'points': 'mean',\n",
    "            'fieldGoalsPercentage': 'mean',\n",
    "            'threePointersPercentage': 'mean',\n",
    "            'reboundsTotal': 'mean',\n",
    "            'foulsPersonal': 'mean',\n",
    "            'turnovers': 'mean',\n",
    "            'fieldGoalsMade': 'mean',\n",
    "            'fieldGoalsAttempted': 'mean',\n",
    "            'threePointersMade': 'mean',\n",
    "            'threePointersAttempted': 'mean',\n",
    "            'freeThrowsMade': 'mean',\n",
    "            'freeThrowsAttempted': 'mean',\n",
    "            'freeThrowsPercentage': 'mean'\n",
    "        }\n",
    "    ).reset_index()\n",
    "    aggregation['gamesPlayed'] = gamePlayer.groupby(['personName','teamTricode','season_year'])['gameId'].count().reset_index(drop=True)\n",
    "\n",
    "    if season is not None:\n",
    "        aggregation = aggregation[aggregation['season_year'] == season]\n",
    "    if teamname is not None:\n",
    "        aggregation = aggregation[aggregation['teamTricode'].isin(teamname)]\n",
    "    aggregation['winPercentage'] = aggregation['WL'] / aggregation['gamesPlayed'] \n",
    "    return aggregation.reset_index(drop=True)"
   ]
  },
  {
   "cell_type": "markdown",
   "id": "1d7f2a50",
   "metadata": {},
   "source": [
    "# XGBoostRegressor with Random Forest Regression For each season"
   ]
  },
  {
   "cell_type": "code",
   "execution_count": 21,
   "id": "e2e67ebe",
   "metadata": {},
   "outputs": [
    {
     "name": "stdout",
     "output_type": "stream",
     "text": [
      "Season: 2010-11\n",
      "Random Forest R2: 0.7551, MSE: 0.0093\n",
      "XGBoost R2: 0.8541, MSE: 0.0056\n",
      "Season: 2011-12\n",
      "Random Forest R2: 0.7560, MSE: 0.0093\n",
      "XGBoost R2: 0.8541, MSE: 0.0056\n",
      "Season: 2012-13\n",
      "Random Forest R2: 0.7610, MSE: 0.0091\n",
      "XGBoost R2: 0.8541, MSE: 0.0056\n",
      "Season: 2013-14\n",
      "Random Forest R2: 0.7449, MSE: 0.0097\n",
      "XGBoost R2: 0.8541, MSE: 0.0056\n",
      "Season: 2014-15\n",
      "Random Forest R2: 0.7603, MSE: 0.0091\n",
      "XGBoost R2: 0.8541, MSE: 0.0056\n",
      "Season: 2015-16\n",
      "Random Forest R2: 0.7489, MSE: 0.0096\n",
      "XGBoost R2: 0.8541, MSE: 0.0056\n",
      "Season: 2016-17\n",
      "Random Forest R2: 0.7496, MSE: 0.0095\n",
      "XGBoost R2: 0.8541, MSE: 0.0056\n",
      "Season: 2017-18\n",
      "Random Forest R2: 0.7516, MSE: 0.0095\n",
      "XGBoost R2: 0.8541, MSE: 0.0056\n",
      "Season: 2018-19\n",
      "Random Forest R2: 0.7549, MSE: 0.0093\n",
      "XGBoost R2: 0.8541, MSE: 0.0056\n",
      "Season: 2019-20\n",
      "Random Forest R2: 0.7418, MSE: 0.0098\n",
      "XGBoost R2: 0.8541, MSE: 0.0056\n",
      "Season: 2020-21\n",
      "Random Forest R2: 0.7588, MSE: 0.0092\n",
      "XGBoost R2: 0.8541, MSE: 0.0056\n",
      "Season: 2021-22\n",
      "Random Forest R2: 0.7544, MSE: 0.0094\n",
      "XGBoost R2: 0.8541, MSE: 0.0056\n",
      "Season: 2022-23\n",
      "Random Forest R2: 0.7508, MSE: 0.0095\n",
      "XGBoost R2: 0.8541, MSE: 0.0056\n",
      "Season: 2023-24\n",
      "Random Forest R2: 0.7544, MSE: 0.0094\n",
      "XGBoost R2: 0.8541, MSE: 0.0056\n"
     ]
    }
   ],
   "source": [
    "import sklearn.ensemble\n",
    "from xgboost import XGBRegressor\n",
    "\n",
    "errors_r2=[]\n",
    "errors_mse=[]\n",
    "\n",
    "for year in range(2010,2024):\n",
    "    gameP=getMatchAndPlayerStats(regular_games_total,regular_season_all_parts,season=2019)\n",
    "    X =gameP.drop(['personName','teamTricode','season_year','winPercentage'],axis=1)\n",
    "    y = gameP['winPercentage'] \n",
    "    X_train, X_test, y_train, y_test = sklearn.model_selection.train_test_split(X, y, test_size=0.2, random_state=200)\n",
    "    # applies standardization to the data same \n",
    "    scaler = sklearn.preprocessing.StandardScaler()\n",
    "    X_train = scaler.fit_transform(X_train)\n",
    "    X_test = scaler.transform(X_test)\n",
    "\n",
    "    # Train models\n",
    "    rf = sklearn.ensemble.RandomForestRegressor(n_estimators=100)\n",
    "    rf.fit(X_train, y_train)\n",
    "\n",
    "    xgb = XGBRegressor(n_estimators=100)\n",
    "    xgb.fit(X_train, y_train)\n",
    "\n",
    "    # Evaluate\n",
    "    print(f\"Season: {convert_int_season_to_str(year)}\")\n",
    "    for model, name in zip([rf, xgb], [\"Random Forest\", \"XGBoost\"]):\n",
    "        preds = model.predict(X_test)\n",
    "        r2_error=sklearn.metrics.r2_score(y_test, preds)\n",
    "        mean_sq=sklearn.metrics.mean_squared_error(y_test, preds)\n",
    "        errors_r2.append(r2_error)\n",
    "        errors_mse.append(mean_sq)\n",
    "        print(f\"{name} R2: {r2_error:.4f}, MSE: {mean_sq:.4f}\")\n",
    "    \n",
    "\n"
   ]
  },
  {
   "cell_type": "markdown",
   "id": "c1ef0007",
   "metadata": {},
   "source": [
    "## Analysis \n",
    "..."
   ]
  },
  {
   "cell_type": "markdown",
   "id": "22bd870c",
   "metadata": {},
   "source": [
    "# Neural Network for value estimation"
   ]
  },
  {
   "cell_type": "code",
   "execution_count": 19,
   "id": "f56fab75",
   "metadata": {},
   "outputs": [
    {
     "name": "stdout",
     "output_type": "stream",
     "text": [
      "Neural Network R2: 0.5195, MSE: 0.0183\n"
     ]
    }
   ],
   "source": [
    "from sklearn.neural_network import MLPRegressor\n",
    "\n",
    "X=gameP.drop(['personName','teamTricode','season_year','winPercentage'],axis=1)\n",
    "y=gameP['winPercentage']\n",
    "X_train, X_test, y_train, y_test = sklearn.model_selection.train_test_split(X, y, test_size=0.2, random_state=200)\n",
    "# Create a neural network regressor\n",
    "nn = MLPRegressor(hidden_layer_sizes=(100, 50), max_iter=1000,activation='relu',solver='adam', random_state=42)\n",
    "nn.fit(X_train, y_train)\n",
    "nn.predictions = nn.predict(X_test)\n",
    "# Evaluate the model\n",
    "r2_error=sklearn.metrics.r2_score(y_test, nn.predictions)\n",
    "mean_sq=sklearn.metrics.mean_squared_error(y_test, nn.predictions)\n",
    "print(f\"Neural Network R2: {r2_error:.4f}, MSE: {mean_sq:.4f}\")\n"
   ]
  }
 ],
 "metadata": {
  "kernelspec": {
   "display_name": "base",
   "language": "python",
   "name": "python3"
  },
  "language_info": {
   "codemirror_mode": {
    "name": "ipython",
    "version": 3
   },
   "file_extension": ".py",
   "mimetype": "text/x-python",
   "name": "python",
   "nbconvert_exporter": "python",
   "pygments_lexer": "ipython3",
   "version": "3.12.7"
  }
 },
 "nbformat": 4,
 "nbformat_minor": 5
}
