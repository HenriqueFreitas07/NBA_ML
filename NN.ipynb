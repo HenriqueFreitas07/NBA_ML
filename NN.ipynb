{
 "cells": [
  {
   "cell_type": "markdown",
   "id": "97e2e2bb",
   "metadata": {},
   "source": [
    "# Player Neural Network\n",
    "We are going on an approach to deduce a \"worth\" or overall quantitative value to a player during a regular season in order to later make a prediction based on."
   ]
  },
  {
   "cell_type": "markdown",
   "id": "1f5f330d",
   "metadata": {},
   "source": [
    "## Utils"
   ]
  },
  {
   "cell_type": "code",
   "execution_count": 9,
   "id": "833bcb44",
   "metadata": {},
   "outputs": [],
   "source": [
    "def convert_min_to_float(min_str):\n",
    "    if isinstance(min_str, str) and ':' in min_str:\n",
    "        mins, secs = map(int, min_str.split(':'))\n",
    "        return mins + secs / 60\n",
    "    return 0.0  # handle empty or malformed entries"
   ]
  },
  {
   "cell_type": "code",
   "execution_count": 10,
   "id": "fcdd66ba",
   "metadata": {},
   "outputs": [],
   "source": [
    "def convert_int_season_to_str(season):\n",
    "    if isinstance(season, int):\n",
    "        return f\"{season}-{season%2000 +1 :02d}\" \n",
    "    return season"
   ]
  },
  {
   "cell_type": "code",
   "execution_count": 19,
   "id": "fbc0aec4",
   "metadata": {},
   "outputs": [],
   "source": [
    "# make me a function that will print the number of unique values in each column of the dataframe\n",
    "def print_unique_values(df):\n",
    "    for column in df.columns:\n",
    "        print(f\"{column}: {len(df[column].unique())} unique {column}\")\n"
   ]
  },
  {
   "cell_type": "markdown",
   "id": "97c487cf",
   "metadata": {},
   "source": [
    "# Imports "
   ]
  },
  {
   "cell_type": "code",
   "execution_count": null,
   "id": "3165e5e5",
   "metadata": {},
   "outputs": [],
   "source": [
    "# to install xgboost on the notebook environment\n",
    "%pip install xgboost"
   ]
  },
  {
   "cell_type": "code",
   "execution_count": 15,
   "id": "e3229ab4",
   "metadata": {},
   "outputs": [],
   "source": [
    "import pandas as pd\n",
    "import matplotlib.pyplot as plt\n",
    "import numpy as np\n",
    "import seaborn as sns\n",
    "import itertools \n",
    "import sklearn\n",
    "import xgboost as xgb\n",
    "\n",
    "pd.set_option('future.no_silent_downcasting', True)"
   ]
  },
  {
   "cell_type": "code",
   "execution_count": 16,
   "id": "69654085",
   "metadata": {},
   "outputs": [],
   "source": [
    "NUM_GAMES=82\n",
    "teams=['DAL','MIL','ATL','DEN','HOU','IND','OKC','CHI','ORL','BOS','DET','NYK'\n",
    ",'CHA','LAL','SAC','MIA','LAC','GSW','POR','MIN','WAS','BKN','MEM','SAS'\n",
    ",'PHX','NOP','UTA','TOR','PHI','CLE']\n",
    "all_possible_matchups=itertools.combinations(teams, 2)\n",
    "playoff_games_total=pd.read_csv(\"./datasets/NBA_DATA_2010_2024/play_off_totals_2010_2024.csv\",delimiter=',',header=0)\n",
    "regular_games_total=pd.read_csv(\"./datasets/NBA_DATA_2010_2024/regular_season_totals_2010_2024.csv\",delimiter=',',header=0)\n",
    "regular_season_all_parts=pd.concat([\n",
    "        pd.read_csv(\"./datasets/NBA_DATA_2010_2024/regular_season_box_scores_2010_2024_part_1.csv\",delimiter=',',header=0),\n",
    "        pd.read_csv(\"./datasets/NBA_DATA_2010_2024/regular_season_box_scores_2010_2024_part_2.csv\",delimiter=',',header=0),\n",
    "        pd.read_csv(\"./datasets/NBA_DATA_2010_2024/regular_season_box_scores_2010_2024_part_3.csv\",delimiter=',',header=0)])"
   ]
  },
  {
   "cell_type": "markdown",
   "id": "1afa41e0",
   "metadata": {},
   "source": [
    "# NBA facts\n",
    "Regular season each team makes 82 games.\n",
    "The Best 8 teams of each conference (WEST & EAST), makes to the playoffs.\n",
    "The goal with this model is to predict the probability of the winning a game between a specific matchup.\n",
    "## Important Game Features \n",
    "- Home/ Away Game \n",
    "- Players List \n",
    "## Important Player Features\n",
    "- season (season_year)\n",
    "- time played (MIN)\n",
    "- Field Goal Made (fieldGoalsMade)\n",
    "- Field Goal Percentage (fieldGoalsPercentage)\n",
    "- Field Goal Made 3PT (treePointersMade)\n",
    "- Field Goal Percentage 3PT (threePointersPercentage)\n",
    "- Free throw made (freeThrowsMade)\n",
    "- Free Throw (percentagefreeThrowsPercentage)\n",
    "- assists\n",
    "- rebounds \n",
    "- steals \n",
    "- turnovers\n",
    "- foulsPersonal\n",
    "- blocks \n",
    "- points \n",
    "- plusMinusPoints"
   ]
  },
  {
   "cell_type": "code",
   "execution_count": 30,
   "id": "79aa1f3e",
   "metadata": {},
   "outputs": [],
   "source": [
    "def getMatchAndPlayerStats(game,player,season=None,teamname=None):\n",
    "    \"\"\"\n",
    "    Function to get the average points of a team in a season\n",
    "    :param teamname: team name :List[str]\n",
    "    :param season: season: str or int or None (for all seasons) \n",
    "    :return: average points of the team \n",
    "    \"\"\"\n",
    "    season=convert_int_season_to_str(season)\n",
    "    playerScores = player[player['minutes'].notna()].copy()\n",
    "    playerScores['minutesParsed'] = playerScores['minutes'].apply(convert_min_to_float)\n",
    "    game.loc[:,'WL'] = game['WL'].replace({'W': 1, 'L': 0}).infer_objects(copy=False)\n",
    "    gamePlayer=game.merge(playerScores, how='inner', left_on=['GAME_ID','TEAM_ABBREVIATION'], right_on=['gameId','teamTricode'])\n",
    "    # add a collumn to count the number of games played by each player\n",
    "    aggregation= gamePlayer.groupby(['personName','teamTricode','season_year']).agg(\n",
    "        {\n",
    "            'WL': 'sum',\n",
    "            'plusMinusPoints':'mean',\n",
    "            'minutesParsed': 'mean',\n",
    "            'assists': 'mean',\n",
    "            'points': 'mean',\n",
    "            'fieldGoalsPercentage': 'mean',\n",
    "            'threePointersPercentage': 'mean',\n",
    "            'reboundsTotal': 'mean',\n",
    "            'foulsPersonal': 'mean',\n",
    "            'turnovers': 'mean',\n",
    "            'fieldGoalsMade': 'mean',\n",
    "            'fieldGoalsAttempted': 'mean',\n",
    "            'threePointersMade': 'mean',\n",
    "            'threePointersAttempted': 'mean',\n",
    "            'freeThrowsMade': 'mean',\n",
    "            'freeThrowsAttempted': 'mean',\n",
    "            'freeThrowsPercentage': 'mean'\n",
    "        }\n",
    "    ).reset_index()\n",
    "    aggregation['gamesPlayed'] = gamePlayer.groupby(['personName','teamTricode','season_year'])['gameId'].count().reset_index(drop=True)\n",
    "\n",
    "    if season is not None:\n",
    "        aggregation = aggregation[aggregation['season_year'] == season]\n",
    "    if teamname is not None:\n",
    "        aggregation = aggregation[aggregation['teamTricode'].isin(teamname)]\n",
    "    aggregation['winPercentage'] = aggregation['WL'] / aggregation['gamesPlayed'] \n",
    "    return aggregation.reset_index(drop=True)"
   ]
  },
  {
   "cell_type": "code",
   "execution_count": null,
   "id": "76164bda",
   "metadata": {},
   "outputs": [],
   "source": [
    "gameP=getMatchAndPlayerStats(regular_games_total,regular_season_all_parts,season=2023)\n"
   ]
  },
  {
   "cell_type": "markdown",
   "id": "72c1aa93",
   "metadata": {},
   "source": [
    "## Data Normalization"
   ]
  }
 ],
 "metadata": {
  "kernelspec": {
   "display_name": "base",
   "language": "python",
   "name": "python3"
  },
  "language_info": {
   "codemirror_mode": {
    "name": "ipython",
    "version": 3
   },
   "file_extension": ".py",
   "mimetype": "text/x-python",
   "name": "python",
   "nbconvert_exporter": "python",
   "pygments_lexer": "ipython3",
   "version": "3.12.7"
  }
 },
 "nbformat": 4,
 "nbformat_minor": 5
}
