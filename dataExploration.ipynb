{
 "cells": [
  {
   "cell_type": "markdown",
   "id": "8e8b92f1",
   "metadata": {},
   "source": [
    "# NBA-Data-2010-2024 🏀\n",
    "\n",
    "## Schema for Box_scores\n",
    "\n",
    "### Dimensions\n",
    "- **season_year**: The year of the basketball season.\n",
    "- **game_date**: The date of the game.\n",
    "- **gameId**: Unique identifier for the game.\n",
    "- **teamId**: Unique identifier for the team.\n",
    "- **teamCity**: The city where the team is based.\n",
    "- **teamName**: The name of the team.\n",
    "- **teamTricode**: A three-letter code representing the team.\n",
    "- **teamSlug**: A unique identifier for the team.\n",
    "- **personId**: Unique identifier for the person (player).\n",
    "- **personName**: The name of the person (player).\n",
    "- **position**: The position of the player.\n",
    "- **comment**: Any additional comments or notes.\n",
    "- **jerseyNum**: The jersey number of the player.\n",
    "\n",
    "### Metrics\n",
    "- **minutes**: The number of minutes played by the player.\n",
    "- **fieldGoalsMade**: The number of field goals made by the player.\n",
    "- **fieldGoalsAttempted**: The number of field goals attempted by the player.\n",
    "- **fieldGoalsPercentage**: The shooting percentage for field goals.\n",
    "- **threePointersMade**: The number of three-pointers made by the player.\n",
    "- **threePointersAttempted**: The number of three-pointers attempted by the player.\n",
    "- **threePointersPercentage**: The shooting percentage for three-pointers.\n",
    "- **freeThrowsMade**: The number of free throws made by the player.\n",
    "- **freeThrowsAttempted**: The number of free throws attempted by the player.\n",
    "- **freeThrowsPercentage**: The shooting percentage for free throws.\n",
    "- **reboundsOffensive**: The number of offensive rebounds by the player.\n",
    "- **reboundsDefensive**: The number of defensive rebounds by the player.\n",
    "- **reboundsTotal**: The total number of rebounds by the player.\n",
    "- **assists**: The number of assists by the player.\n",
    "- **steals**: The number of steals by the player.\n",
    "- **blocks**: The number of blocks by the player.\n",
    "- **turnovers**: The number of turnovers by the player.\n",
    "- **foulsPersonal**: The number of personal fouls committed by the player.\n",
    "- **points**: The total number of points scored by the player.\n",
    "- **plusMinusPoints**: The plus-minus statistic for the player, indicating the team's score differential when the player is on the court.\n",
    "\n",
    "## Schema of game totals \n",
    "\n",
    "### Dimensions\n",
    "- **SEASON_YEAR**: The year of the NBA season.\n",
    "- **TEAM_ID**: Unique identifier for the team.\n",
    "- **TEAM_ABBREVIATION**: Abbreviated name of the team.\n",
    "- **TEAM_NAME**: Full name of the team.\n",
    "- **GAME_ID**: Unique identifier for the game.\n",
    "- **GAME_DATE**: Date of the game.\n",
    "- **MATCHUP**: Matchup details indicating the teams involved.\n",
    "- **WL**: Outcome of the game (Win or Loss).\n",
    "\n",
    "### Metrics\n",
    "- **MIN**: Total minutes played in the game.\n",
    "- **FGM**: Field goals made.\n",
    "- **FGA**: Field goals attempted.\n",
    "- **FG_PCT**: Field goal percentage.\n",
    "- **FG3M**: Three-point field goals made.\n",
    "- **FG3A**: Three-point field goals attempted.\n",
    "- **FG3_PCT**: Three-point field goal percentage.\n",
    "- **FTM**: Free throws made.\n",
    "- **FTA**: Free throws attempted.\n",
    "- **FT_PCT**: Free throw percentage.\n",
    "- **OREB**: Offensive rebounds.\n",
    "- **DREB**: Defensive rebounds.\n",
    "- **REB**: Total rebounds.\n",
    "- **AST**: Assists.\n",
    "- **TOV**: Turnovers.\n",
    "- **STL**: Steals.\n",
    "- **BLK**: Blocks.\n",
    "- **BLKA**: Opponent's blocks.\n",
    "- **PF**: Personal fouls.\n",
    "- **PFD**: Personal fouls drawn.\n",
    "- **PTS**: Total points scored.\n",
    "- **PLUS_MINUS**: Plus-minus statistic.\n",
    "- **GP_RANK**: Rank based on games played.\n",
    "- **W_RANK**: Rank based on wins.\n",
    "- **L_RANK**: Rank based on losses.\n",
    "- **W_PCT_RANK**: Rank based on win percentage.\n",
    "- **MIN_RANK**: Rank based on minutes played.\n",
    "- **Ranks for various statistical categories like field goals made, rebounds, assists, etc., indicated by suffix _RANK.**\n",
    "- **AVAILABLE_FLAG**: Indicates if the data for this row is available.\n",
    "\n",
    "## Authors\n",
    "\n",
    "- [@NocturneBear](https://github.com/NocturneBear)\n",
    "\n",
    "## License\n",
    "\n",
    "[MIT](https://github.com/NocturneBear/NBA-Data-2010-2024/blob/main/LICENSE)"
   ]
  },
  {
   "cell_type": "code",
   "execution_count": 134,
   "id": "8ec06ed7",
   "metadata": {},
   "outputs": [],
   "source": [
    "import pandas as pd\n",
    "import matplotlib.pyplot as plt\n",
    "import numpy as np"
   ]
  },
  {
   "cell_type": "code",
   "execution_count": 135,
   "id": "512f5cfd",
   "metadata": {},
   "outputs": [],
   "source": [
    "playoff_games_total=pd.read_csv(\"./datasets/NBA_DATA_2010_2024/play_off_totals_2010_2024.csv\",delimiter=',',header=0)\n",
    "regular_games_total=pd.read_csv(\"./datasets/NBA_DATA_2010_2024/regular_season_totals_2010_2024.csv\",delimiter=',',header=0)\n"
   ]
  },
  {
   "cell_type": "markdown",
   "id": "742a8cfb",
   "metadata": {},
   "source": [
    "## Organize Data\n",
    "The main objective now is to connect the data, we want to get all the player form a team. We want to be able to search for a team tag and season, and get the list of data associated with the players of each team.\n"
   ]
  },
  {
   "cell_type": "code",
   "execution_count": 136,
   "id": "dcef9c30",
   "metadata": {},
   "outputs": [],
   "source": [
    "def getWinPercentageByTeamBySeason(playoffs,team_tag,season):\n",
    "    \"\"\"\n",
    "    Function to get the win percentage of a team in a season\n",
    "    :param team_tag: team tag\n",
    "    :param season: season\n",
    "    :return: win percentage of the team in the season\n",
    "    \"\"\"\n",
    "    teams=playoffs.filter(items=['SEASON_YEAR','TEAM_ABBREVIATION','MATCHUP','TEAM_ID','WL'])\n",
    "    teams=teams[teams['TEAM_ABBREVIATION']==team_tag]\n",
    "    teams=teams[teams['SEASON_YEAR']==season]\n",
    "    if len(teams)==0:\n",
    "        return 0\n",
    "    totalWins=teams[teams['WL']=='W'].shape[0]\n",
    "    totalGames=teams.shape[0]\n",
    "    if totalGames==0:\n",
    "        return 0\n",
    "    winPercentage=totalWins/totalGames\n",
    "    return teams,winPercentage"
   ]
  },
  {
   "cell_type": "code",
   "execution_count": 137,
   "id": "596233ea",
   "metadata": {},
   "outputs": [
    {
     "name": "stdout",
     "output_type": "stream",
     "text": [
      "      SEASON_YEAR TEAM_ABBREVIATION      MATCHUP     TEAM_ID WL\n",
      "76        2018-19               GSW    GSW @ CHI  1610612744  W\n",
      "87        2018-19               GSW  GSW vs. NOP  1610612744  W\n",
      "434       2018-19               GSW  GSW vs. CHA  1610612744  W\n",
      "437       2018-19               GSW    GSW @ DEN  1610612744  W\n",
      "448       2018-19               GSW    GSW @ SAC  1610612744  W\n",
      "...           ...               ...          ...         ... ..\n",
      "31777     2018-19               GSW    GSW @ DET  1610612744  L\n",
      "31803     2018-19               GSW  GSW vs. TOR  1610612744  L\n",
      "32630     2018-19               GSW    GSW @ SAS  1610612744  L\n",
      "33028     2018-19               GSW    GSW @ HOU  1610612744  L\n",
      "33036     2018-19               GSW  GSW vs. DAL  1610612744  L\n",
      "\n",
      "[82 rows x 5 columns]\n",
      "Winnig Percentage: 69.51 %\n"
     ]
    }
   ],
   "source": [
    "tp,w=getWinPercentageByTeamBySeason(regular_games_total,'GSW','2018-19')\n",
    "print(tp)\n",
    "print(\"Winnig Percentage:\",round(w*100,2),\"%\")"
   ]
  },
  {
   "cell_type": "code",
   "execution_count": null,
   "id": "dc7f7eb1",
   "metadata": {},
   "outputs": [],
   "source": []
  }
 ],
 "metadata": {
  "kernelspec": {
   "display_name": "base",
   "language": "python",
   "name": "python3"
  },
  "language_info": {
   "codemirror_mode": {
    "name": "ipython",
    "version": 3
   },
   "file_extension": ".py",
   "mimetype": "text/x-python",
   "name": "python",
   "nbconvert_exporter": "python",
   "pygments_lexer": "ipython3",
   "version": "3.12.7"
  }
 },
 "nbformat": 4,
 "nbformat_minor": 5
}
