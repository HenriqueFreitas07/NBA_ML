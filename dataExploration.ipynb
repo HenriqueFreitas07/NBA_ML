{
 "cells": [
  {
   "cell_type": "markdown",
   "id": "8e8b92f1",
   "metadata": {},
   "source": [
    "# NBA-Data-2010-2024 🏀\n",
    "\n",
    "## Schema for Box_scores\n",
    "\n",
    "### Dimensions\n",
    "- **season_year**: The year of the basketball season.\n",
    "- **game_date**: The date of the game.\n",
    "- **gameId**: Unique identifier for the game.\n",
    "- **teamId**: Unique identifier for the team.\n",
    "- **teamCity**: The city where the team is based.\n",
    "- **teamName**: The name of the team.\n",
    "- **teamTricode**: A three-letter code representing the team.\n",
    "- **teamSlug**: A unique identifier for the team.\n",
    "- **personId**: Unique identifier for the person (player).\n",
    "- **personName**: The name of the person (player).\n",
    "- **position**: The position of the player.\n",
    "- **comment**: Any additional comments or notes.\n",
    "- **jerseyNum**: The jersey number of the player.\n",
    "\n",
    "### Metrics\n",
    "- **minutes**: The number of minutes played by the player.\n",
    "- **fieldGoalsMade**: The number of field goals made by the player.\n",
    "- **fieldGoalsAttempted**: The number of field goals attempted by the player.\n",
    "- **fieldGoalsPercentage**: The shooting percentage for field goals.\n",
    "- **threePointersMade**: The number of three-pointers made by the player.\n",
    "- **threePointersAttempted**: The number of three-pointers attempted by the player.\n",
    "- **threePointersPercentage**: The shooting percentage for three-pointers.\n",
    "- **freeThrowsMade**: The number of free throws made by the player.\n",
    "- **freeThrowsAttempted**: The number of free throws attempted by the player.\n",
    "- **freeThrowsPercentage**: The shooting percentage for free throws.\n",
    "- **reboundsOffensive**: The number of offensive rebounds by the player.\n",
    "- **reboundsDefensive**: The number of defensive rebounds by the player.\n",
    "- **reboundsTotal**: The total number of rebounds by the player.\n",
    "- **assists**: The number of assists by the player.\n",
    "- **steals**: The number of steals by the player.\n",
    "- **blocks**: The number of blocks by the player.\n",
    "- **turnovers**: The number of turnovers by the player.\n",
    "- **foulsPersonal**: The number of personal fouls committed by the player.\n",
    "- **points**: The total number of points scored by the player.\n",
    "- **plusMinusPoints**: The plus-minus statistic for the player, indicating the team's score differential when the player is on the court.\n",
    "\n",
    "## Schema of game totals \n",
    "\n",
    "### Dimensions\n",
    "- **SEASON_YEAR**: The year of the NBA season.\n",
    "- **TEAM_ID**: Unique identifier for the team.\n",
    "- **TEAM_ABBREVIATION**: Abbreviated name of the team.\n",
    "- **TEAM_NAME**: Full name of the team.\n",
    "- **GAME_ID**: Unique identifier for the game.\n",
    "- **GAME_DATE**: Date of the game.\n",
    "- **MATCHUP**: Matchup details indicating the teams involved.\n",
    "- **WL**: Outcome of the game (Win or Loss).\n",
    "\n",
    "### Metrics\n",
    "- **MIN**: Total minutes played in the game.\n",
    "- **FGM**: Field goals made.\n",
    "- **FGA**: Field goals attempted.\n",
    "- **FG_PCT**: Field goal percentage.\n",
    "- **FG3M**: Three-point field goals made.\n",
    "- **FG3A**: Three-point field goals attempted.\n",
    "- **FG3_PCT**: Three-point field goal percentage.\n",
    "- **FTM**: Free throws made.\n",
    "- **FTA**: Free throws attempted.\n",
    "- **FT_PCT**: Free throw percentage.\n",
    "- **OREB**: Offensive rebounds.\n",
    "- **DREB**: Defensive rebounds.\n",
    "- **REB**: Total rebounds.\n",
    "- **AST**: Assists.\n",
    "- **TOV**: Turnovers.\n",
    "- **STL**: Steals.\n",
    "- **BLK**: Blocks.\n",
    "- **BLKA**: Opponent's blocks.\n",
    "- **PF**: Personal fouls.\n",
    "- **PFD**: Personal fouls drawn.\n",
    "- **PTS**: Total points scored.\n",
    "- **PLUS_MINUS**: Plus-minus statistic.\n",
    "- **GP_RANK**: Rank based on games played.\n",
    "- **W_RANK**: Rank based on wins.\n",
    "- **L_RANK**: Rank based on losses.\n",
    "- **W_PCT_RANK**: Rank based on win percentage.\n",
    "- **MIN_RANK**: Rank based on minutes played.\n",
    "- **Ranks for various statistical categories like field goals made, rebounds, assists, etc., indicated by suffix _RANK.**\n",
    "- **AVAILABLE_FLAG**: Indicates if the data for this row is available.\n",
    "\n",
    "## Authors\n",
    "\n",
    "- [@NocturneBear](https://github.com/NocturneBear)\n",
    "\n",
    "## License\n",
    "\n",
    "[MIT](https://github.com/NocturneBear/NBA-Data-2010-2024/blob/main/LICENSE)"
   ]
  },
  {
   "cell_type": "code",
   "execution_count": 1,
   "id": "8ec06ed7",
   "metadata": {},
   "outputs": [],
   "source": [
    "import pandas as pd\n",
    "import matplotlib.pyplot as plt\n",
    "import numpy as np\n",
    "import seaborn as sns\n",
    "import re\n",
    "import itertools \n",
    "pd.set_option('future.no_silent_downcasting', True)"
   ]
  },
  {
   "cell_type": "code",
   "execution_count": 2,
   "id": "512f5cfd",
   "metadata": {},
   "outputs": [],
   "source": [
    "NUM_GAMES=82\n",
    "teams=['DAL','MIL','ATL','DEN','HOU','IND','OKC','CHI','ORL','BOS','DET','NYK'\n",
    ",'CHA','LAL','SAC','MIA','LAC','GSW','POR','MIN','WAS','BKN','MEM','SAS'\n",
    ",'PHX','NOP','UTA','TOR','PHI','CLE']\n",
    "all_possible_matchups=list(itertools.combinations(teams, 2))\n",
    "# playoff_games_total=pd.read_csv(\"./datasets/NBA_DATA_2010_2024/play_off_totals_2010_2024.csv\",delimiter=',',header=0)\n",
    "regular_games_total=pd.read_csv(\"./datasets/NBA_DATA_2010_2024/regular_season_totals_2010_2024.csv\",delimiter=',',header=0)\n",
    "regular_season_all_parts=pd.concat([\n",
    "        pd.read_csv(\"./datasets/NBA_DATA_2010_2024/regular_season_box_scores_2010_2024_part_1.csv\",delimiter=',',header=0),\n",
    "        pd.read_csv(\"./datasets/NBA_DATA_2010_2024/regular_season_box_scores_2010_2024_part_2.csv\",delimiter=',',header=0),\n",
    "        pd.read_csv(\"./datasets/NBA_DATA_2010_2024/regular_season_box_scores_2010_2024_part_3.csv\",delimiter=',',header=0)])"
   ]
  },
  {
   "cell_type": "markdown",
   "id": "51142e5a",
   "metadata": {},
   "source": [
    "## Some Utils Functions"
   ]
  },
  {
   "cell_type": "code",
   "execution_count": 3,
   "id": "7daf5260",
   "metadata": {},
   "outputs": [],
   "source": [
    "def convert_min_to_float(min_str):\n",
    "    if isinstance(min_str, str) and ':' in min_str:\n",
    "        mins, secs = map(int, min_str.split(':'))\n",
    "        return mins + secs / 60\n",
    "    return 0.0  # handle empty or malformed entries"
   ]
  },
  {
   "cell_type": "code",
   "execution_count": 4,
   "id": "5f3b393a",
   "metadata": {},
   "outputs": [],
   "source": [
    "def convert_int_season_to_str(season):\n",
    "    if isinstance(season, int):\n",
    "        return f\"{season}-{season%2000 +1 :02d}\" \n",
    "    return season"
   ]
  },
  {
   "cell_type": "markdown",
   "id": "6fdc61c6",
   "metadata": {},
   "source": [
    "# Data Studying\n",
    "\n",
    "## Justifications\n",
    "- Why we choose player stats instead of team overall stats \n",
    "- Why we choose to make a single season analysis\n",
    "- Why we analyse teams based on the players available "
   ]
  },
  {
   "cell_type": "markdown",
   "id": "c361a55e",
   "metadata": {},
   "source": [
    "## Average Points Per-Game,Per-Teams Per-Season\n",
    "Here i are looking for a correalation between the average points between seasons, since this might me an indicator of why we should or shouldn't use all seasons to train the model, since there can be or not a relation between this features"
   ]
  },
  {
   "cell_type": "code",
   "execution_count": null,
   "id": "50d3e3ef",
   "metadata": {},
   "outputs": [],
   "source": [
    "def getTeamAvgPointsBySeason(scores,season=None,teamname=None):\n",
    "    \"\"\"\n",
    "    Function to get the average points of a team in a season\n",
    "    :param teamname: team name :List[str]\n",
    "    :param season: season: str or int or None (for all seasons) \n",
    "    :return: average points of the team \n",
    "    \"\"\"\n",
    "    season = convert_int_season_to_str(season)  # e.g. 2023 -> \"2023-24\"\n",
    "    # Filter by season first\n",
    "    season_scores=scores\n",
    "    if season is not None:\n",
    "        season_scores = scores[scores['SEASON_YEAR'] == season]\n",
    "    # Assuming your DataFrame is called 'df' and the column is called 'result'\n",
    "    season_scores.loc[:,'WL'] = season_scores['WL'].replace({'W': 1, 'L': 0}).infer_objects(copy=False)\n",
    "    # Group by team and calculate averages\n",
    "    team_avg = season_scores.groupby([ 'TEAM_ABBREVIATION','SEASON_YEAR']).agg(\n",
    "        {\n",
    "            'PTS': 'mean',\n",
    "            'FG_PCT': 'mean',\n",
    "            'FG3_PCT': 'mean',\n",
    "            'FT_PCT': 'mean',\n",
    "            'WL':'sum'\n",
    "        }\n",
    "    ).reset_index()\n",
    "    # Optional filter by team name\n",
    "    if teamname:\n",
    "        team_avg = team_avg[team_avg['TEAM_ABBREVIATION'].isin(teamname)]\n",
    "    \n",
    "    return team_avg.sort_values(by=['SEASON_YEAR','WL'],ascending=True).reset_index(drop=True)"
   ]
  },
  {
   "cell_type": "code",
   "execution_count": null,
   "id": "ba0aa3d2",
   "metadata": {},
   "outputs": [],
   "source": [
    "AveragePointsPerGameinSeason= getTeamAvgPointsBySeason(regular_games_total,teamname=[\"LAL\",\"BOS\",\"PHI\",\"CHI\",\"NYK\",\"MIA\",\"GSW\",\"SAS\",\"OKC\",\"DAL\",\"DEN\",\"MIL\",\"HOU\",\"IND\",\"ORL\",\"CHA\",\"BKN\",\"MEM\",\"NOP\",\"UTA\",\"PHX\"])\n",
    "sns.set_theme(style=\"whitegrid\")  # You can also try 'darkgrid', 'white', 'dark', or 'ticks'\n",
    "plt.figure(figsize=(20, 8))  # Increase width and height for better readability\n",
    "plt.tight_layout()\n",
    "AveragePointsPerGameinSeason['WL'] = AveragePointsPerGameinSeason['WL']/82\n",
    "sns.barplot(data=AveragePointsPerGameinSeason, x='TEAM_ABBREVIATION', y='WL', hue='SEASON_YEAR')\n",
    "plt.title('Winning Percentage by Team and Season')\n",
    "plt.savefig('figures/winning_percentage.png')"
   ]
  },
  {
   "cell_type": "markdown",
   "id": "0c87e040",
   "metadata": {},
   "source": [
    "**As we can see on the above graphic, although there seems to be an overall raise of points in all teams throughout the seasons, there is no direct correlation of the average points per-game between seasons so we need more features to deduce and infer some feature relations and traits of the data in order to build a more accurate model. (Alterations*)**\n",
    "\n",
    "## Average Team Points Per Win Rate\n",
    "Here we need to see if there is a correlation between the average points per-game and the win percentage on the regular season"
   ]
  },
  {
   "cell_type": "code",
   "execution_count": null,
   "id": "b50991d9",
   "metadata": {},
   "outputs": [],
   "source": [
    "for year in range(2010,2024):\n",
    "    plt.figure(figsize=(20, 8))  # Increase width and height for better readability\n",
    "    plt.tight_layout()\n",
    "    plt.title(f\"Average Points per Game in {year}\")\n",
    "    sns.set_theme(style=\"whitegrid\")  # You can also try 'darkgrid', 'white', 'dark', or 'ticks'\n",
    "    ap= getTeamAvgPointsBySeason(regular_games_total,season=year)\n",
    "    ap['WL'] = ap['WL']/82\n",
    "    sns.barplot(data=ap, x='PTS', y='WL', hue='TEAM_ABBREVIATION')\n",
    "    savefig = f\"figures/win_loss_per_points_{year}.png\"\n",
    "    plt.title(f\"Win Loss Ratio per Points in {year}\")\n",
    "    plt.savefig(savefig)\n",
    "    plt.show()"
   ]
  },
  {
   "cell_type": "markdown",
   "id": "ecb3c7bc",
   "metadata": {},
   "source": [
    "**As we can deduce by the graphics there is also no direct correlation between the average points per-game and the number of wins for each team, in a season, so it this will probably be a multi-dimensional features model, and the data exploration process may come at a cost of absence of visual representation of the data**\n",
    "\n",
    "## Justify the Player choice ... (TODO)\n",
    "- (per team and season,win percentage by player points played games) DONE\n",
    "- (per team and season,win percentage by the average plusminuspoints for each player) DONE\n",
    "- (per team and season,win percentage by the reboundsTotal for each player)\n",
    "- (per team and season,win percentage by the assists for each player)\n",
    "- (per team and season, win percentage by [plusMinusPoints (average) by the minutes played (average)])\n"
   ]
  },
  {
   "cell_type": "markdown",
   "id": "025c6155",
   "metadata": {},
   "source": [
    "## Average Player Points per Win Percentage of the games played"
   ]
  },
  {
   "cell_type": "code",
   "execution_count": null,
   "id": "19dff68f",
   "metadata": {},
   "outputs": [],
   "source": [
    "def getMatchAndPlayerStats(game,player,season=None,teamname=None):\n",
    "    \"\"\"\n",
    "    Function to get the average points of a team in a season\n",
    "    :param teamname: team name :List[str]\n",
    "    :param season: season: str or int or None (for all seasons) \n",
    "    :return: average points of the team \n",
    "    \"\"\"\n",
    "    season=convert_int_season_to_str(season)\n",
    "    playerScores = player[player['minutes'].notna()].copy()\n",
    "    playerScores['minutesParsed'] = playerScores['minutes'].apply(convert_min_to_float)\n",
    "    gamePlayer=game.merge(playerScores, how='inner', left_on=['GAME_ID','TEAM_ABBREVIATION'], right_on=['gameId','teamTricode'])\n",
    "    # add a collumn to count the number of games played by each player\n",
    "    aggregation= gamePlayer.groupby(['personName','teamTricode','season_year']).agg(\n",
    "        {\n",
    "            'WL': 'sum',\n",
    "            'points': 'mean',\n",
    "            'fieldGoalsPercentage': 'mean',\n",
    "            'threePointersPercentage': 'mean',\n",
    "            'reboundsTotal': 'mean',\n",
    "            'assists': 'mean',\n",
    "            'plusMinusPoints':'mean',\n",
    "            'minutesParsed': 'mean'\n",
    "        }\n",
    "    ).reset_index()\n",
    "    aggregation['gamesPlayed'] = gamePlayer.groupby(['personName','teamTricode','season_year'])['gameId'].count().reset_index(drop=True)\n",
    "\n",
    "    if season is not None:\n",
    "        aggregation = aggregation[aggregation['season_year'] == season]\n",
    "    if teamname is not None:\n",
    "        aggregation = aggregation[aggregation['teamTricode'].isin(teamname)]\n",
    "\n",
    "    return aggregation "
   ]
  },
  {
   "cell_type": "code",
   "execution_count": null,
   "id": "2e2f063c",
   "metadata": {},
   "outputs": [],
   "source": [
    "gameP=getMatchAndPlayerStats(regular_games_total,regular_season_all_parts,season=None,teamname=None)\n",
    "for i in range(2010,2024):\n",
    "    playerStatus = gameP[gameP['season_year'] == convert_int_season_to_str(i)]\n",
    "    playerStatus.loc[:,'WL'] = playerStatus['WL']/playerStatus['gamesPlayed']\n",
    "    sns.set_theme(style=\"whitegrid\")  # You can also try 'darkgrid', 'white', 'dark', or 'ticks'\n",
    "    plt.figure(figsize=(20, 8))  # Increase width and height for better readability\n",
    "    plt.tight_layout()\n",
    "    sns.scatterplot(data=playerStatus, y='points', x='WL', hue='teamTricode')\n",
    "    plt.title(f\"Season {i}\")\n",
    "    savefig = f\"figures/avg_points_win_percentage_of_each_player_{i}.png\"\n",
    "    plt.savefig(savefig)\n"
   ]
  },
  {
   "cell_type": "markdown",
   "id": "33ecbf94",
   "metadata": {},
   "source": [
    "**Again we fail to notice any correlation between the average points per player per game and the number of wins of the team. Perhaps we can observe a linear relation between the coeficient between the total points and the number of wins in the regular season.**\n",
    "## PlusMinusPoints per Player WinPercentage in a season and team \n",
    "\n"
   ]
  },
  {
   "cell_type": "code",
   "execution_count": null,
   "id": "b7aa862b",
   "metadata": {},
   "outputs": [],
   "source": [
    "# (per team and season,win percentage by the average plusminuspoints for each player)\n",
    "for i in range(2010,2024):\n",
    "    playerStatus = gameP[gameP['season_year'] == convert_int_season_to_str(i)]\n",
    "    playerStatus.loc[:,'WL'] = playerStatus['WL']/playerStatus['gamesPlayed']\n",
    "    sns.set_theme(style=\"whitegrid\")  # You can also try 'darkgrid', 'white', 'dark', or 'ticks'\n",
    "    plt.figure(figsize=(20, 8))  # Increase width and height for better readability\n",
    "    plt.tight_layout()\n",
    "    sns.scatterplot(data=playerStatus, x='plusMinusPoints', y='WL', hue='teamTricode')\n",
    "    plt.title(f\"Season {i}\")\n",
    "    savefig = f\"figures/avg_plus_minus_win_percentage_of_each_player_{i}.png\"\n",
    "    plt.savefig(savefig)"
   ]
  },
  {
   "cell_type": "markdown",
   "id": "7bc48f94",
   "metadata": {},
   "source": [
    "## Average total Rebounds per Win Percentage on games played by each player"
   ]
  },
  {
   "cell_type": "code",
   "execution_count": null,
   "id": "c293c2bd",
   "metadata": {},
   "outputs": [],
   "source": [
    "for i in range(2010,2024):\n",
    "    playerStatus = gameP[gameP['season_year'] == convert_int_season_to_str(i)]\n",
    "    playerStatus.loc[:,'WL'] = playerStatus['WL']/playerStatus['gamesPlayed']\n",
    "    sns.set_theme(style=\"whitegrid\")  # You can also try 'darkgrid', 'white', 'dark', or 'ticks'\n",
    "    plt.figure(figsize=(20, 8))  # Increase width and height for better readability\n",
    "    plt.tight_layout()\n",
    "    sns.scatterplot(data=playerStatus, x='reboundsTotal', y='WL', hue='teamTricode')\n",
    "    plt.title(f\"Season {i}\")\n",
    "    savefig = f\"figures/rebounds_win_rate_p_{i}.png\"\n",
    "    plt.savefig(savefig)"
   ]
  },
  {
   "cell_type": "markdown",
   "id": "e3d16069",
   "metadata": {},
   "source": [
    "## Average Plus Minus Points per Average Minutes Played by Win Percentage"
   ]
  },
  {
   "cell_type": "code",
   "execution_count": null,
   "id": "af21cbe7",
   "metadata": {},
   "outputs": [],
   "source": [
    "for i in range(2010,2024):\n",
    "    playerStatus = gameP[gameP['season_year'] == convert_int_season_to_str(i)]\n",
    "    playerStatus.loc[:,'WL'] = playerStatus['WL']/playerStatus['gamesPlayed']\n",
    "    playerStatus.loc[:,'worth']=playerStatus['plusMinusPoints']/playerStatus['minutesParsed']\n",
    "    sns.set_theme(style=\"whitegrid\")  # You can also try 'darkgrid', 'white', 'dark', or 'ticks'\n",
    "    plt.figure(figsize=(20, 8))  # Increase width and height for better readability\n",
    "    plt.tight_layout()\n",
    "    sns.scatterplot(data=playerStatus, x='worth', y='WL', hue='teamTricode')\n",
    "    plt.title(f\"Season {i}\")\n",
    "    savefig = f\"figures/rebounds_win_rate_p_{i}.png\"\n",
    "    plt.savefig(savefig)"
   ]
  },
  {
   "cell_type": "markdown",
   "id": "1375c526",
   "metadata": {},
   "source": [
    "## Home/Away win rate\n",
    "We want to be able to determine the relevance of a game being home or away on the game result."
   ]
  },
  {
   "cell_type": "code",
   "execution_count": null,
   "id": "48fbfd56",
   "metadata": {},
   "outputs": [],
   "source": [
    "def getMatchupByTeamBySeason(scores,matchup,season=False):\n",
    "    \"\"\"\n",
    "    Function to get the matchup of a team in a season\n",
    "    :param team_tag: team tag\n",
    "    :optional param season: season to filter the data by season \n",
    "    :return: matchup of the team in the season\n",
    "    \"\"\"\n",
    "    teams=scores.filter(items=['SEASON_YEAR','TEAM_ABBREVIATION','GAME_ID','MATCHUP','WL'])\n",
    "    teams.loc[:,'WL'] = teams['WL'].replace({'W': 1, 'L': 0}).infer_objects(copy=False)\n",
    "    if season is not False:\n",
    "        teams=teams[teams['SEASON_YEAR']==convert_int_season_to_str(season)]\n",
    "    mathcup_tag=matchup[0]+\" vs. \"+matchup[1]\n",
    "    matchup_inverse_tag=matchup[1]+\" vs. \"+matchup[0]\n",
    "    teams['MATCHUP_STANDARD'] = teams['MATCHUP'].str.replace(\"@\", \"vs.\")\n",
    "    teams=pd.concat([teams[teams['MATCHUP_STANDARD'] ==  mathcup_tag],teams[teams['MATCHUP_STANDARD'] ==  matchup_inverse_tag]],ignore_index=True)\n",
    "    teams['IS_HOME'] = teams['MATCHUP'].str.contains('@')\n",
    "    return teams.filter(items=['SEASON_YEAR','TEAM_ABBREVIATION','GAME_ID','IS_HOME','MATCHUP_STANDARD','WL'])\n",
    "    "
   ]
  },
  {
   "cell_type": "code",
   "execution_count": null,
   "id": "1dd53d4f",
   "metadata": {},
   "outputs": [
    {
     "name": "stdout",
     "output_type": "stream",
     "text": [
      "     SEASON_YEAR TEAM_ABBREVIATION   GAME_ID  IS_HOME MATCHUP_STANDARD WL\n",
      "0        2022-23               DAL  22200298     True      DAL vs. MIL  0\n",
      "1        2022-23               DAL  22200386    False      DAL vs. MIL  0\n",
      "2        2022-23               MIL  22200298    False      MIL vs. DAL  1\n",
      "3        2022-23               MIL  22200386     True      MIL vs. DAL  1\n",
      "4        2022-23               DAL  22200670    False      DAL vs. ATL  0\n",
      "...          ...               ...       ...      ...              ... ..\n",
      "2455     2022-23               PHI  22200875    False      PHI vs. CLE  1\n",
      "2456     2022-23               PHI  22200312     True      PHI vs. CLE  0\n",
      "2457     2022-23               CLE  22200312    False      CLE vs. PHI  1\n",
      "2458     2022-23               CLE  22201035    False      CLE vs. PHI  0\n",
      "2459     2022-23               CLE  22200875     True      CLE vs. PHI  0\n",
      "\n",
      "[2460 rows x 6 columns]\n"
     ]
    }
   ],
   "source": [
    "all_games=None\n",
    "for matchup in all_possible_matchups:\n",
    "    mt = getMatchupByTeamBySeason(regular_games_total,matchup,season=2022)\n",
    "    all_games=pd.concat([all_games,mt],ignore_index=True)\n",
    "print(all_games)"
   ]
  },
  {
   "cell_type": "code",
   "execution_count": 23,
   "id": "aae43442",
   "metadata": {},
   "outputs": [],
   "source": [
    "def aggregate_matchup_data(df, matchup):\n",
    "    team1_abbr, team2_abbr = matchup\n",
    "\n",
    "    # Filter for only the two teams\n",
    "    filtered = df[df['TEAM_ABBREVIATION'].isin([team1_abbr, team2_abbr])]\n",
    "\n",
    "    # Filter games between the two teams\n",
    "    mask = (\n",
    "        (filtered['MATCHUP_STANDARD'].str.contains(f\"{team1_abbr} vs. {team2_abbr}\")) |\n",
    "        (filtered['MATCHUP_STANDARD'].str.contains(f\"{team2_abbr} vs. {team1_abbr}\"))\n",
    "    )\n",
    "    filtered = filtered[mask]\n",
    "\n",
    "    # Add a new column for merging: 'HOME' or 'AWAY'\n",
    "    filtered = filtered.copy()\n",
    "    filtered['HOME_OR_AWAY'] = filtered['IS_HOME'].map({True: 'HOME', False: 'AWAY'})\n",
    "\n",
    "    # Pivot to get HOME and AWAY data side-by-side\n",
    "    pivoted = filtered.pivot(index='GAME_ID', columns='HOME_OR_AWAY')\n",
    "\n",
    "    # Flatten MultiIndex columns\n",
    "    pivoted.columns = ['_'.join(col).strip() for col in pivoted.columns.values]\n",
    "    pivoted = pivoted.reset_index()\n",
    "\n",
    "    # Select desired columns\n",
    "    result = pivoted[[\n",
    "        'GAME_ID',\n",
    "        'SEASON_YEAR_HOME',\n",
    "        'TEAM_ABBREVIATION_HOME', 'TEAM_ABBREVIATION_AWAY',\n",
    "        'WL_HOME', 'WL_AWAY',\n",
    "        'MATCHUP_STANDARD_HOME'\n",
    "    ]].rename(columns={\n",
    "        'SEASON_YEAR_HOME': 'SEASON_YEAR',\n",
    "        'TEAM_ABBREVIATION_HOME': 'HOME_TEAM',\n",
    "        'TEAM_ABBREVIATION_AWAY': 'AWAY_TEAM',\n",
    "        'WL_HOME': 'HOME_WL',\n",
    "        'WL_AWAY': 'AWAY_WL',\n",
    "        'MATCHUP_STANDARD_HOME': 'MATCHUP_STANDARD'\n",
    "    })\n",
    "\n",
    "    return result\n"
   ]
  },
  {
   "cell_type": "code",
   "execution_count": 25,
   "id": "de89a34a",
   "metadata": {},
   "outputs": [
    {
     "data": {
      "text/html": [
       "<div>\n",
       "<style scoped>\n",
       "    .dataframe tbody tr th:only-of-type {\n",
       "        vertical-align: middle;\n",
       "    }\n",
       "\n",
       "    .dataframe tbody tr th {\n",
       "        vertical-align: top;\n",
       "    }\n",
       "\n",
       "    .dataframe thead th {\n",
       "        text-align: right;\n",
       "    }\n",
       "</style>\n",
       "<table border=\"1\" class=\"dataframe\">\n",
       "  <thead>\n",
       "    <tr style=\"text-align: right;\">\n",
       "      <th></th>\n",
       "      <th>GAME_ID</th>\n",
       "      <th>SEASON_YEAR</th>\n",
       "      <th>HOME_TEAM</th>\n",
       "      <th>AWAY_TEAM</th>\n",
       "      <th>HOME_WL</th>\n",
       "      <th>AWAY_WL</th>\n",
       "      <th>MATCHUP_STANDARD</th>\n",
       "    </tr>\n",
       "  </thead>\n",
       "  <tbody>\n",
       "    <tr>\n",
       "      <th>0</th>\n",
       "      <td>22200494</td>\n",
       "      <td>2022-23</td>\n",
       "      <td>LAL</td>\n",
       "      <td>DAL</td>\n",
       "      <td>0</td>\n",
       "      <td>1</td>\n",
       "      <td>LAL vs. DAL</td>\n",
       "    </tr>\n",
       "    <tr>\n",
       "      <th>1</th>\n",
       "      <td>22200630</td>\n",
       "      <td>2022-23</td>\n",
       "      <td>DAL</td>\n",
       "      <td>LAL</td>\n",
       "      <td>1</td>\n",
       "      <td>0</td>\n",
       "      <td>DAL vs. LAL</td>\n",
       "    </tr>\n",
       "    <tr>\n",
       "      <th>2</th>\n",
       "      <td>22200913</td>\n",
       "      <td>2022-23</td>\n",
       "      <td>LAL</td>\n",
       "      <td>DAL</td>\n",
       "      <td>1</td>\n",
       "      <td>0</td>\n",
       "      <td>LAL vs. DAL</td>\n",
       "    </tr>\n",
       "    <tr>\n",
       "      <th>3</th>\n",
       "      <td>22201054</td>\n",
       "      <td>2022-23</td>\n",
       "      <td>DAL</td>\n",
       "      <td>LAL</td>\n",
       "      <td>1</td>\n",
       "      <td>0</td>\n",
       "      <td>DAL vs. LAL</td>\n",
       "    </tr>\n",
       "  </tbody>\n",
       "</table>\n",
       "</div>"
      ],
      "text/plain": [
       "    GAME_ID SEASON_YEAR HOME_TEAM AWAY_TEAM HOME_WL AWAY_WL MATCHUP_STANDARD\n",
       "0  22200494     2022-23       LAL       DAL       0       1      LAL vs. DAL\n",
       "1  22200630     2022-23       DAL       LAL       1       0      DAL vs. LAL\n",
       "2  22200913     2022-23       LAL       DAL       1       0      LAL vs. DAL\n",
       "3  22201054     2022-23       DAL       LAL       1       0      DAL vs. LAL"
      ]
     },
     "execution_count": 25,
     "metadata": {},
     "output_type": "execute_result"
    }
   ],
   "source": [
    "aggregate_matchup_data(all_games,(\"DAL\",\"LAL\"))"
   ]
  },
  {
   "cell_type": "markdown",
   "id": "a56aa099",
   "metadata": {},
   "source": [
    "# Pair Plot"
   ]
  },
  {
   "cell_type": "code",
   "execution_count": null,
   "id": "15a80288",
   "metadata": {},
   "outputs": [],
   "source": [
    "# exprimentar NN, RNN, MLP,\n",
    "# Verificar acesso softmax na redes-neurais \n"
   ]
  }
 ],
 "metadata": {
  "kernelspec": {
   "display_name": "base",
   "language": "python",
   "name": "python3"
  },
  "language_info": {
   "codemirror_mode": {
    "name": "ipython",
    "version": 3
   },
   "file_extension": ".py",
   "mimetype": "text/x-python",
   "name": "python",
   "nbconvert_exporter": "python",
   "pygments_lexer": "ipython3",
   "version": "3.12.7"
  }
 },
 "nbformat": 4,
 "nbformat_minor": 5
}
