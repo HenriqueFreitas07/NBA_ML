{
 "cells": [
  {
   "cell_type": "markdown",
   "id": "8e8b92f1",
   "metadata": {},
   "source": [
    "# NBA-Data-2010-2024 🏀\n",
    "\n",
    "## Schema for Box_scores\n",
    "\n",
    "### Dimensions\n",
    "- **season_year**: The year of the basketball season.\n",
    "- **game_date**: The date of the game.\n",
    "- **gameId**: Unique identifier for the game.\n",
    "- **teamId**: Unique identifier for the team.\n",
    "- **teamCity**: The city where the team is based.\n",
    "- **teamName**: The name of the team.\n",
    "- **teamTricode**: A three-letter code representing the team.\n",
    "- **teamSlug**: A unique identifier for the team.\n",
    "- **personId**: Unique identifier for the person (player).\n",
    "- **personName**: The name of the person (player).\n",
    "- **position**: The position of the player.\n",
    "- **comment**: Any additional comments or notes.\n",
    "- **jerseyNum**: The jersey number of the player.\n",
    "\n",
    "### Metrics\n",
    "- **minutes**: The number of minutes played by the player.\n",
    "- **fieldGoalsMade**: The number of field goals made by the player.\n",
    "- **fieldGoalsAttempted**: The number of field goals attempted by the player.\n",
    "- **fieldGoalsPercentage**: The shooting percentage for field goals.\n",
    "- **threePointersMade**: The number of three-pointers made by the player.\n",
    "- **threePointersAttempted**: The number of three-pointers attempted by the player.\n",
    "- **threePointersPercentage**: The shooting percentage for three-pointers.\n",
    "- **freeThrowsMade**: The number of free throws made by the player.\n",
    "- **freeThrowsAttempted**: The number of free throws attempted by the player.\n",
    "- **freeThrowsPercentage**: The shooting percentage for free throws.\n",
    "- **reboundsOffensive**: The number of offensive rebounds by the player.\n",
    "- **reboundsDefensive**: The number of defensive rebounds by the player.\n",
    "- **reboundsTotal**: The total number of rebounds by the player.\n",
    "- **assists**: The number of assists by the player.\n",
    "- **steals**: The number of steals by the player.\n",
    "- **blocks**: The number of blocks by the player.\n",
    "- **turnovers**: The number of turnovers by the player.\n",
    "- **foulsPersonal**: The number of personal fouls committed by the player.\n",
    "- **points**: The total number of points scored by the player.\n",
    "- **plusMinusPoints**: The plus-minus statistic for the player, indicating the team's score differential when the player is on the court.\n",
    "\n",
    "## Schema of game totals \n",
    "\n",
    "### Dimensions\n",
    "- **SEASON_YEAR**: The year of the NBA season.\n",
    "- **TEAM_ID**: Unique identifier for the team.\n",
    "- **TEAM_ABBREVIATION**: Abbreviated name of the team.\n",
    "- **TEAM_NAME**: Full name of the team.\n",
    "- **GAME_ID**: Unique identifier for the game.\n",
    "- **GAME_DATE**: Date of the game.\n",
    "- **MATCHUP**: Matchup details indicating the teams involved.\n",
    "- **WL**: Outcome of the game (Win or Loss).\n",
    "\n",
    "### Metrics\n",
    "- **MIN**: Total minutes played in the game.\n",
    "- **FGM**: Field goals made.\n",
    "- **FGA**: Field goals attempted.\n",
    "- **FG_PCT**: Field goal percentage.\n",
    "- **FG3M**: Three-point field goals made.\n",
    "- **FG3A**: Three-point field goals attempted.\n",
    "- **FG3_PCT**: Three-point field goal percentage.\n",
    "- **FTM**: Free throws made.\n",
    "- **FTA**: Free throws attempted.\n",
    "- **FT_PCT**: Free throw percentage.\n",
    "- **OREB**: Offensive rebounds.\n",
    "- **DREB**: Defensive rebounds.\n",
    "- **REB**: Total rebounds.\n",
    "- **AST**: Assists.\n",
    "- **TOV**: Turnovers.\n",
    "- **STL**: Steals.\n",
    "- **BLK**: Blocks.\n",
    "- **BLKA**: Opponent's blocks.\n",
    "- **PF**: Personal fouls.\n",
    "- **PFD**: Personal fouls drawn.\n",
    "- **PTS**: Total points scored.\n",
    "- **PLUS_MINUS**: Plus-minus statistic.\n",
    "- **GP_RANK**: Rank based on games played.\n",
    "- **W_RANK**: Rank based on wins.\n",
    "- **L_RANK**: Rank based on losses.\n",
    "- **W_PCT_RANK**: Rank based on win percentage.\n",
    "- **MIN_RANK**: Rank based on minutes played.\n",
    "- **Ranks for various statistical categories like field goals made, rebounds, assists, etc., indicated by suffix _RANK.**\n",
    "- **AVAILABLE_FLAG**: Indicates if the data for this row is available.\n",
    "\n",
    "## Authors\n",
    "\n",
    "- [@NocturneBear](https://github.com/NocturneBear)\n",
    "\n",
    "## License\n",
    "\n",
    "[MIT](https://github.com/NocturneBear/NBA-Data-2010-2024/blob/main/LICENSE)"
   ]
  },
  {
   "cell_type": "markdown",
   "id": "ff1bcd9d",
   "metadata": {},
   "source": [
    "# NBA facts\n",
    "Regular season each team makes 82 games.\n",
    "The Best 8 teams of each conference (WEST & EAST), makes to the playoffs.\n",
    "The goal with this model is to predict the probability of the winning a game between a specific matchup.\n",
    "## Important Game Features \n",
    "- Home/ Away Game \n",
    "- Players List \n",
    "## Important Player Features\n",
    "- season (season_year)\n",
    "- position (position)\n",
    "- team (teamId)\n",
    "- time played (MIN)\n",
    "- Field Goal Made (fieldGoalsMade)\n",
    "- Field Goal Percentage (fieldGoalsPercentage)\n",
    "- Field Goal Made 3PT (treePointersMade)\n",
    "- Field Goal Percentage 3PT (threePointersPercentage)\n",
    "- Free throw made (freeThrowsMade)\n",
    "- Free Throw (percentagefreeThrowsPercentage)\n",
    "- assists\n",
    "- rebounds \n",
    "- steals \n",
    "- turnovers\n",
    "- foulsPersonal\n",
    "- blocks \n",
    "- points \n",
    "- plusMinusPoints"
   ]
  },
  {
   "cell_type": "code",
   "execution_count": 249,
   "id": "8ec06ed7",
   "metadata": {},
   "outputs": [],
   "source": [
    "import pandas as pd\n",
    "import matplotlib.pyplot as plt\n",
    "import numpy as np\n",
    "import seaborn as sns\n",
    "import re"
   ]
  },
  {
   "cell_type": "code",
   "execution_count": null,
   "id": "512f5cfd",
   "metadata": {},
   "outputs": [],
   "source": [
    "NUM_GAMES=82\n",
    "playoff_games_total=pd.read_csv(\"./datasets/NBA_DATA_2010_2024/play_off_totals_2010_2024.csv\",delimiter=',',header=0)\n",
    "regular_games_total=pd.read_csv(\"./datasets/NBA_DATA_2010_2024/regular_season_totals_2010_2024.csv\",delimiter=',',header=0)\n",
    "regular_season_all_parts=pd.concat([\n",
    "        pd.read_csv(\"./datasets/NBA_DATA_2010_2024/regular_season_box_scores_2010_2024_part_1.csv\",delimiter=',',header=0),\n",
    "        pd.read_csv(\"./datasets/NBA_DATA_2010_2024/regular_season_box_scores_2010_2024_part_2.csv\",delimiter=',',header=0),\n",
    "        pd.read_csv(\"./datasets/NBA_DATA_2010_2024/regular_season_box_scores_2010_2024_part_3.csv\",delimiter=',',header=0)])"
   ]
  },
  {
   "cell_type": "code",
   "execution_count": 251,
   "id": "7daf5260",
   "metadata": {},
   "outputs": [],
   "source": [
    "def convert_min_to_float(min_str):\n",
    "    if isinstance(min_str, str) and ':' in min_str:\n",
    "        mins, secs = map(int, min_str.split(':'))\n",
    "        return mins + secs / 60\n",
    "    return 0.0  # handle empty or malformed entries"
   ]
  },
  {
   "cell_type": "code",
   "execution_count": 252,
   "id": "5f3b393a",
   "metadata": {},
   "outputs": [],
   "source": [
    "def convert_int_season_to_str(season):\n",
    "    if isinstance(season, int):\n",
    "        return f\"{season}-{season%2000 +1 :02d}\" \n",
    "    return season"
   ]
  },
  {
   "cell_type": "markdown",
   "id": "742a8cfb",
   "metadata": {},
   "source": [
    "## Line of thinking\n",
    "Since taking into account the players and match stats is difficult for an ML to process without giving to much disparced and unrelated data, we want to focus on what would be the main input parameters when we're using the model to make predictions. \n",
    "Such parameters would be: \n",
    "- binary value of home or away game,\n",
    "- the visitor team,\n",
    "- the home team,\n",
    "- the list of visitor players,\n",
    "- the list of home players \n",
    "Thereby it would be first a good approach to make a simple logistics regression model based on a teams overall player's score just for simplicity and data exploration purposes.\n",
    "For that we want to aggregate the data based on the players and season, on the regular season.\n"
   ]
  },
  {
   "cell_type": "code",
   "execution_count": 253,
   "id": "da41703b",
   "metadata": {},
   "outputs": [],
   "source": [
    "def getPlayerStatsBySeason(scores,season,playername=None):\n",
    "    \"\"\"\n",
    "    Function to get the stats of a player in a season\n",
    "    :param player_name: player name\n",
    "    :param season: season\n",
    "    :return: stats of the player in the season\n",
    "    \"\"\"\n",
    "    season=convert_int_season_to_str(season)\n",
    "    scores = scores[scores['minutes'].notna()].copy()\n",
    "    scores['minutesParsed'] = scores['minutes'].apply(convert_min_to_float)\n",
    "    playersGrouped=scores.groupby(['personName','season_year'])\n",
    "    playersAggregated=playersGrouped.agg(\n",
    "        {\n",
    "            ''\n",
    "            'points':'mean',\n",
    "            'assists':'mean',\n",
    "            'reboundsTotal':'mean',\n",
    "            'steals':'mean',\n",
    "            'blocks':'mean',\n",
    "            'turnovers':'mean',\n",
    "            'minutesParsed':'mean',\n",
    "            'fieldGoalsMade':'mean',\n",
    "            'fieldGoalsPercentage':'mean',\n",
    "            'threePointersMade':'mean',\n",
    "            'threePointersPercentage':'mean'\n",
    "        }).reset_index()\n",
    "    games_of_player_on_season=playersAggregated[playersAggregated['season_year']==season]\n",
    "    if playername is not None:\n",
    "        games_of_player_on_season=games_of_player_on_season[games_of_player_on_season['personName'].str.contains(playername,case=False)]\n",
    "    if len(games_of_player_on_season)==0:\n",
    "        return 0,0\n",
    "    return games_of_player_on_season"
   ]
  },
  {
   "cell_type": "markdown",
   "id": "c361a55e",
   "metadata": {},
   "source": [
    "for each time i want the average points per-game, and number and win percentage"
   ]
  },
  {
   "cell_type": "code",
   "execution_count": 261,
   "id": "50d3e3ef",
   "metadata": {},
   "outputs": [],
   "source": [
    "def getTeamAvgPointsBySeason(scores,season,teamname=None):\n",
    "    \"\"\"\n",
    "    Function to get the average points of a team in a season\n",
    "    :param teamname: team name\n",
    "    :param season: season\n",
    "    :return: average points of the team in the season\n",
    "    \"\"\"\n",
    "    season = convert_int_season_to_str(season)  # e.g. 2023 -> \"2023-24\"\n",
    "    \n",
    "    # Filter by season first\n",
    "    season_scores = scores[scores['SEASON_YEAR'] == season]\n",
    "    # Assuming your DataFrame is called 'df' and the column is called 'result'\n",
    "    season_scores.loc[:,'WL'] = season_scores['WL'].replace({'W': 1, 'L': 0}).infer_objects(copy=False)\n",
    "    # Group by team and calculate averages\n",
    "    team_avg = season_scores.groupby(['SEASON_YEAR', 'TEAM_ABBREVIATION']).agg(\n",
    "        {\n",
    "            'PTS': 'mean',\n",
    "            'FG_PCT': 'mean',\n",
    "            'FG3_PCT': 'mean',\n",
    "            'FT_PCT': 'mean',\n",
    "            'WL':'sum'\n",
    "        }\n",
    "    ).reset_index()\n",
    "    # Optional filter by team name\n",
    "    if teamname:\n",
    "        team_avg = team_avg[team_avg['TEAM_ABBREVIATION'] == teamname]\n",
    "    \n",
    "    return team_avg"
   ]
  },
  {
   "cell_type": "code",
   "execution_count": null,
   "id": "ba0aa3d2",
   "metadata": {},
   "outputs": [
    {
     "name": "stdout",
     "output_type": "stream",
     "text": [
      "   SEASON_YEAR TEAM_ABBREVIATION        PTS    FG_PCT   FG3_PCT    FT_PCT  WL\n",
      "13     2019-20               LAL  113.43662  0.479113  0.347704  0.728479  52\n"
     ]
    },
    {
     "name": "stderr",
     "output_type": "stream",
     "text": [
      "/var/folders/4m/ysgswh1x0hn9vd_xm3hlcb7c0000gn/T/ipykernel_96768/113676147.py:13: FutureWarning: Downcasting behavior in `replace` is deprecated and will be removed in a future version. To retain the old behavior, explicitly call `result.infer_objects(copy=False)`. To opt-in to the future behavior, set `pd.set_option('future.no_silent_downcasting', True)`\n",
      "  season_scores.loc[:,'WL'] = season_scores['WL'].replace({'W': 1, 'L': 0}).infer_objects(copy=False)\n"
     ]
    }
   ],
   "source": [
    "AveragePointsPerGameinSeason= getTeamAvgPointsBySeason(regular_games_total,2019,'LAL')\n",
    "print(AveragePointsPerGameinSeason)\n",
    "# Bar plot of average points per game "
   ]
  },
  {
   "cell_type": "code",
   "execution_count": 256,
   "id": "4ef52ba8",
   "metadata": {},
   "outputs": [
    {
     "name": "stdout",
     "output_type": "stream",
     "text": [
      "   SEASON_YEAR TEAM_ABBREVIATION  NUM_GAMES\n",
      "0      2014-15               ATL         82\n",
      "1      2014-15               BKN         82\n",
      "2      2014-15               BOS         82\n",
      "3      2014-15               CHA         82\n",
      "4      2014-15               CHI         82\n",
      "5      2014-15               CLE         82\n",
      "6      2014-15               DAL         82\n",
      "7      2014-15               DEN         82\n",
      "8      2014-15               DET         82\n",
      "9      2014-15               GSW         82\n",
      "10     2014-15               HOU         82\n",
      "11     2014-15               IND         82\n",
      "12     2014-15               LAC         82\n",
      "13     2014-15               LAL         82\n",
      "14     2014-15               MEM         82\n",
      "15     2014-15               MIA         82\n",
      "16     2014-15               MIL         82\n",
      "17     2014-15               MIN         82\n",
      "18     2014-15               NOP         82\n",
      "19     2014-15               NYK         82\n",
      "20     2014-15               OKC         82\n",
      "21     2014-15               ORL         82\n",
      "22     2014-15               PHI         82\n",
      "23     2014-15               PHX         82\n",
      "24     2014-15               POR         82\n",
      "25     2014-15               SAC         82\n",
      "26     2014-15               SAS         82\n",
      "27     2014-15               TOR         82\n",
      "28     2014-15               UTA         82\n",
      "29     2014-15               WAS         82\n"
     ]
    }
   ],
   "source": [
    "print(num_gamesPerTeam)"
   ]
  },
  {
   "cell_type": "code",
   "execution_count": 257,
   "id": "48fbfd56",
   "metadata": {},
   "outputs": [],
   "source": [
    "def getMatchupByTeamBySeason(scores,team_tag_home,team_tag_visitor,season=False):\n",
    "    \"\"\"\n",
    "    Function to get the matchup of a team in a season\n",
    "    :param team_tag: team tag\n",
    "    :optional param season: season to filter the data by season \n",
    "    :return: matchup of the team in the season\n",
    "    \"\"\"\n",
    "    teams=scores.filter(items=['SEASON_YEAR','TEAM_ABBREVIATION','MATCHUP','TEAM_ID','WL','FGA','FGM'])\n",
    "    if season is not False:\n",
    "        teams=teams[teams['SEASON_YEAR']==season]\n",
    "    mathcup_tag=team_tag_home+\" vs. \"+team_tag_visitor \n",
    "    mathcup_tag_visitor=team_tag_visitor+\" vs. \"+team_tag_home\n",
    "    teams['MATCHUP_STANDARD'] = teams['MATCHUP'].str.replace(\"@\", \"vs.\")\n",
    "    teams=pd.concat([teams[teams['MATCHUP_STANDARD'] ==  mathcup_tag],teams[teams['MATCHUP_STANDARD']==  mathcup_tag_visitor]],ignore_index=True)\n",
    "    if len(teams)==0:\n",
    "        return \n",
    "    return teams.filter(items=['SEASON_YEAR','TEAM_ABBREVIATION','MATCHUP_STANDARD','TEAM_ID','WL','FGA','FGM'])"
   ]
  },
  {
   "cell_type": "code",
   "execution_count": 258,
   "id": "596233ea",
   "metadata": {},
   "outputs": [
    {
     "data": {
      "text/plain": [
       "<Axes: xlabel='personName', ylabel='points'>"
      ]
     },
     "execution_count": 258,
     "metadata": {},
     "output_type": "execute_result"
    },
    {
     "data": {
      "image/png": "[encoded data removed]",
      "text/plain": [
       "<Figure size 640x480 with 1 Axes>"
      ]
     },
     "metadata": {},
     "output_type": "display_data"
    }
   ],
   "source": [
    "gamesPlayerStats=getPlayerStatsBySeason(regular_season_all_parts,'2022-23');\n",
    "sns.barplot(data=gamesPlayerStats,x='personName',y='points',hue='season_year')"
   ]
  },
  {
   "cell_type": "code",
   "execution_count": 259,
   "id": "17676d5b",
   "metadata": {},
   "outputs": [
    {
     "name": "stdout",
     "output_type": "stream",
     "text": [
      "(1, 13)\n",
      "        personName season_year     points   assists  reboundsTotal    steals  \\\n",
      "4443  LeBron James     2021-22  30.267857  6.232143       8.196429  1.303571   \n",
      "\n",
      "        blocks  turnovers  minutesParsed  fieldGoalsMade  \\\n",
      "4443  1.053571        3.5      37.220833       11.428571   \n",
      "\n",
      "      fieldGoalsPercentage  threePointersMade  threePointersPercentage  \n",
      "4443              0.523964              2.875                 0.355589  \n"
     ]
    }
   ],
   "source": [
    "gamesPlayerStatsLe=getPlayerStatsBySeason(regular_season_all_parts,'2021-22','LeBro');\n",
    "print(gamesPlayerStatsLe.shape)\n",
    "print(gamesPlayerStatsLe)"
   ]
  },
  {
   "cell_type": "code",
   "execution_count": null,
   "id": "8f1b2ba8",
   "metadata": {},
   "outputs": [],
   "source": []
  }
 ],
 "metadata": {
  "kernelspec": {
   "display_name": "base",
   "language": "python",
   "name": "python3"
  },
  "language_info": {
   "codemirror_mode": {
    "name": "ipython",
    "version": 3
   },
   "file_extension": ".py",
   "mimetype": "text/x-python",
   "name": "python",
   "nbconvert_exporter": "python",
   "pygments_lexer": "ipython3",
   "version": "3.12.7"
  }
 },
 "nbformat": 4,
 "nbformat_minor": 5
}
