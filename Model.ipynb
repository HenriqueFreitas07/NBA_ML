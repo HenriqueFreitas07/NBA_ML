{
 "cells": [
  {
   "cell_type": "markdown",
   "id": "97e2e2bb",
   "metadata": {},
   "source": [
    "# Player Neural Network\n",
    "We are going on an approach to deduce a \"worth\" or overall quantitative value to a player during a regular season in order to later make a prediction based on."
   ]
  },
  {
   "cell_type": "markdown",
   "id": "1f5f330d",
   "metadata": {},
   "source": [
    "## Utils"
   ]
  },
  {
   "cell_type": "code",
   "execution_count": 1,
   "id": "833bcb44",
   "metadata": {},
   "outputs": [],
   "source": [
    "def convert_min_to_float(min_str):\n",
    "    if isinstance(min_str, str) and ':' in min_str:\n",
    "        mins, secs = map(int, min_str.split(':'))\n",
    "        return mins + secs / 60\n",
    "    return 0.0  # handle empty or malformed entries"
   ]
  },
  {
   "cell_type": "code",
   "execution_count": 2,
   "id": "fcdd66ba",
   "metadata": {},
   "outputs": [],
   "source": [
    "def convert_int_season_to_str(season):\n",
    "    if isinstance(season, int):\n",
    "        return f\"{season}-{season%2000 +1 :02d}\" \n",
    "    return season"
   ]
  },
  {
   "cell_type": "code",
   "execution_count": 3,
   "id": "fbc0aec4",
   "metadata": {},
   "outputs": [],
   "source": [
    "# make me a function that will print the number of unique values in each column of the dataframe\n",
    "def print_unique_values(df):\n",
    "    for column in df.columns:\n",
    "        print(f\"{column}: {len(df[column].unique())} unique {column}\")\n"
   ]
  },
  {
   "cell_type": "markdown",
   "id": "97c487cf",
   "metadata": {},
   "source": [
    "# Imports "
   ]
  },
  {
   "cell_type": "code",
   "execution_count": 4,
   "id": "3165e5e5",
   "metadata": {},
   "outputs": [
    {
     "name": "stdout",
     "output_type": "stream",
     "text": [
      "Requirement already satisfied: xgboost in /Users/hfreitas07/anaconda3/lib/python3.12/site-packages (3.0.0)\n",
      "Requirement already satisfied: numpy in /Users/hfreitas07/anaconda3/lib/python3.12/site-packages (from xgboost) (1.26.4)\n",
      "Requirement already satisfied: scipy in /Users/hfreitas07/anaconda3/lib/python3.12/site-packages (from xgboost) (1.13.1)\n",
      "Note: you may need to restart the kernel to use updated packages.\n"
     ]
    }
   ],
   "source": [
    "# to install xgboost on the notebook environment\n",
    "%pip install xgboost"
   ]
  },
  {
   "cell_type": "code",
   "execution_count": 5,
   "id": "e3229ab4",
   "metadata": {},
   "outputs": [],
   "source": [
    "import pandas as pd\n",
    "import matplotlib.pyplot as plt\n",
    "import numpy as np\n",
    "import seaborn as sns\n",
    "import itertools \n",
    "import sklearn\n",
    "import xgboost as xgb\n",
    "\n",
    "pd.set_option('future.no_silent_downcasting', True)"
   ]
  },
  {
   "cell_type": "code",
   "execution_count": 6,
   "id": "69654085",
   "metadata": {},
   "outputs": [],
   "source": [
    "NUM_GAMES=82\n",
    "teams=['DAL','MIL','ATL','DEN','HOU','IND','OKC','CHI','ORL','BOS','DET','NYK'\n",
    ",'CHA','LAL','SAC','MIA','LAC','GSW','POR','MIN','WAS','BKN','MEM','SAS'\n",
    ",'PHX','NOP','UTA','TOR','PHI','CLE']\n",
    "all_possible_matchups=itertools.combinations(teams, 2)\n",
    "regular_games_total=pd.read_csv(\"./datasets/NBA_DATA_2010_2024/regular_season_totals_2010_2024.csv\",delimiter=',',header=0)\n",
    "regular_season_all_parts=pd.concat([\n",
    "        pd.read_csv(\"./datasets/NBA_DATA_2010_2024/regular_season_box_scores_2010_2024_part_1.csv\",delimiter=',',header=0),\n",
    "        pd.read_csv(\"./datasets/NBA_DATA_2010_2024/regular_season_box_scores_2010_2024_part_2.csv\",delimiter=',',header=0),\n",
    "        pd.read_csv(\"./datasets/NBA_DATA_2010_2024/regular_season_box_scores_2010_2024_part_3.csv\",delimiter=',',header=0)])"
   ]
  },
  {
   "cell_type": "markdown",
   "id": "1afa41e0",
   "metadata": {},
   "source": [
    "# NBA facts\n",
    "Regular season each team makes 82 games.\n",
    "The Best 8 teams of each conference (WEST & EAST), makes to the playoffs.\n",
    "The goal with this model is to predict the probability of the winning a game between a specific matchup.\n",
    "## Important Game Features \n",
    "- Home/ Away Game \n",
    "- Players List \n",
    "## Important Player Features\n",
    "- season (season_year)\n",
    "- time played (MIN)\n",
    "- Field Goal Made (fieldGoalsMade)\n",
    "- Field Goal Percentage (fieldGoalsPercentage)\n",
    "- Field Goal Made 3PT (treePointersMade)\n",
    "- Field Goal Percentage 3PT (threePointersPercentage)\n",
    "- Free throw made (freeThrowsMade)\n",
    "- Free Throw (percentagefreeThrowsPercentage)\n",
    "- assists\n",
    "- rebounds \n",
    "- steals \n",
    "- turnovers\n",
    "- foulsPersonal\n",
    "- blocks \n",
    "- points \n",
    "- plusMinusPoints"
   ]
  },
  {
   "cell_type": "code",
   "execution_count": 7,
   "id": "79aa1f3e",
   "metadata": {},
   "outputs": [],
   "source": [
    "def getMatchAndPlayerStats(game,player,season=None,teamname=None):\n",
    "    \"\"\"\n",
    "    Function to get the average points of a team in a season\n",
    "    :param teamname: team name :List[str]\n",
    "    :param season: season: str or int or None (for all seasons) \n",
    "    :return: average points of the team \n",
    "    \"\"\"\n",
    "    season=convert_int_season_to_str(season)\n",
    "    playerScores = player[player['minutes'].notna()].copy()\n",
    "    playerScores['minutesParsed'] = playerScores['minutes'].apply(convert_min_to_float)\n",
    "    game.loc[:,'WL'] = game['WL'].replace({'W': 1, 'L': 0}).infer_objects(copy=False)\n",
    "    gamePlayer=game.merge(playerScores, how='inner', left_on=['GAME_ID','TEAM_ABBREVIATION'], right_on=['gameId','teamTricode'])\n",
    "    # add a collumn to count the number of games played by each player\n",
    "    aggregation= gamePlayer.groupby(['personName','teamTricode','season_year']).agg(\n",
    "        {\n",
    "            'WL': 'sum',\n",
    "            'plusMinusPoints':'mean',\n",
    "            'minutesParsed': 'mean',\n",
    "            'points': 'mean',\n",
    "            'fieldGoalsPercentage': 'mean',\n",
    "            'threePointersPercentage': 'mean',\n",
    "            'reboundsTotal': 'mean',\n",
    "            'foulsPersonal': 'mean',\n",
    "            'turnovers': 'mean',\n",
    "            'fieldGoalsMade': 'mean',\n",
    "            'fieldGoalsAttempted': 'mean',\n",
    "            'steals':'mean',\n",
    "        }\n",
    "    ).reset_index()\n",
    "    aggregation['gamesPlayed'] = gamePlayer.groupby(['personName','teamTricode','season_year'])['gameId'].count().reset_index(drop=True)\n",
    "\n",
    "    if season is not None:\n",
    "        aggregation = aggregation[aggregation['season_year'] == season]\n",
    "    if teamname is not None:\n",
    "        aggregation = aggregation[aggregation['teamTricode'].isin(teamname)]\n",
    "    aggregation['winPercentage'] = aggregation['WL'] / aggregation['gamesPlayed'] \n",
    "    return aggregation.reset_index(drop=True)"
   ]
  },
  {
   "cell_type": "markdown",
   "id": "7840ba41",
   "metadata": {},
   "source": [
    "# MSE & R2\n",
    "\n",
    "First it is important to notice and define what the MSE (Mean Squared Error) and R2 coeficcient, and in what contexts tthe values might mean.\n",
    "## MSE\n",
    "The Mean squared error (MSE) represents the error of the estimator or predictive model created based on the given set of observations in the sample. It measures the average squared difference between the "
   ]
  },
  {
   "cell_type": "markdown",
   "id": "811afb01",
   "metadata": {},
   "source": [
    "# Doing the overall score based on weights of the players"
   ]
  },
  {
   "cell_type": "code",
   "execution_count": 18,
   "id": "93c37946",
   "metadata": {},
   "outputs": [
    {
     "name": "stdout",
     "output_type": "stream",
     "text": [
      "          personName teamTricode season_year  WL  plusMinusPoints  \\\n",
      "0           AJ Price         MIN     2013-14  15         0.071429   \n",
      "1       Aaron Brooks         DEN     2013-14  11        -2.724138   \n",
      "2       Aaron Brooks         HOU     2013-14  31        -0.372093   \n",
      "3         Aaron Gray         SAC     2013-14  10        -2.393939   \n",
      "4         Aaron Gray         TOR     2013-14   2        -1.250000   \n",
      "..               ...         ...         ...  ..              ...   \n",
      "543     Willie Green         LAC     2013-14  38         1.509091   \n",
      "544  Wilson Chandler         DEN     2013-14  27        -2.806452   \n",
      "545     Xavier Henry         LAL     2013-14  16        -0.883721   \n",
      "546    Zach Randolph         MEM     2013-14  49         2.139241   \n",
      "547    Zaza Pachulia         MIL     2013-14  10        -3.415094   \n",
      "\n",
      "     minutesParsed     points  fieldGoalsPercentage  threePointersPercentage  \\\n",
      "0         3.548810   1.571429              0.273821                 0.136893   \n",
      "1        29.002874  11.931034              0.397690                 0.314483   \n",
      "2        16.655814   6.953488              0.287907                 0.250465   \n",
      "3        10.137879   1.818182              0.298727                 0.000000   \n",
      "4         4.950000   1.250000              0.250000                 0.000000   \n",
      "..             ...        ...                   ...                      ...   \n",
      "543      15.804545   4.963636              0.344455                 0.248782   \n",
      "544      31.076882  13.645161              0.415565                 0.342952   \n",
      "545      21.120155  10.046512              0.388279                 0.212023   \n",
      "546      34.240928  17.367089              0.470747                 0.018987   \n",
      "547      24.991824   7.698113              0.432113                 0.000000   \n",
      "\n",
      "     reboundsTotal  foulsPersonal  turnovers  fieldGoalsMade  \\\n",
      "0         0.357143       0.178571   0.250000        0.678571   \n",
      "1         2.689655       2.413793   2.275862        4.448276   \n",
      "2         1.441860       1.767442   1.186047        2.418605   \n",
      "3         3.121212       1.727273   0.818182        0.757576   \n",
      "4         2.000000       1.750000   1.000000        0.500000   \n",
      "..             ...            ...        ...             ...   \n",
      "543       1.418182       1.745455   0.618182        1.854545   \n",
      "544       4.741935       3.112903   1.274194        4.951613   \n",
      "545       2.651163       1.837209   1.325581        3.348837   \n",
      "546      10.063291       2.658228   2.316456        7.088608   \n",
      "547       6.283019       2.339623   1.735849        2.811321   \n",
      "\n",
      "     fieldGoalsAttempted    steals  gamesPlayed winPercentage  \n",
      "0               1.642857  0.035714           28      0.535714  \n",
      "1              10.965517  0.931034           29       0.37931  \n",
      "2               6.116279  0.581395           43       0.72093  \n",
      "3               1.757576  0.303030           33       0.30303  \n",
      "4               0.750000  0.000000            4           0.5  \n",
      "..                   ...       ...          ...           ...  \n",
      "543             4.927273  0.400000           55      0.690909  \n",
      "544            11.903226  0.741935           62      0.435484  \n",
      "545             8.023256  1.023256           43      0.372093  \n",
      "546            15.164557  0.683544           79      0.620253  \n",
      "547             6.584906  0.849057           53      0.188679  \n",
      "\n",
      "[548 rows x 17 columns]\n"
     ]
    }
   ],
   "source": [
    "print(getMatchAndPlayerStats(regular_games_total,regular_season_all_parts,season=2013))\n",
    "weights=[1,.7,.6,.5,.5,-.7]\n",
    "features=[\"points\",\"assists\",\"reboundsTotal\",\"steals\",\"blocks\",\"turnovers\"]\n"
   ]
  },
  {
   "cell_type": "markdown",
   "id": "1d7f2a50",
   "metadata": {},
   "source": [
    "# XGBoostRegressor with Random Forest Regression For each season"
   ]
  },
  {
   "cell_type": "code",
   "execution_count": null,
   "id": "e2e67ebe",
   "metadata": {},
   "outputs": [
    {
     "name": "stdout",
     "output_type": "stream",
     "text": [
      "Random Forest R2: 0.3534, MSE: 6.1239\n",
      "XGBoost R2: 0.4304, MSE: 5.3947\n"
     ]
    }
   ],
   "source": [
    "import sklearn.ensemble\n",
    "from xgboost import XGBRegressor\n",
    "\n",
    "errors_r2=[]\n",
    "errors_mse=[]\n",
    "\n",
    "gameP=getMatchAndPlayerStats(regular_games_total,regular_season_all_parts)\n",
    "# gameP[\"weighted\"] = gameP[features].dot(weights)\n",
    "X =gameP.drop(['personName','teamTricode','season_year',\"plusMinusPoints\",'winPercentage'],axis=1)\n",
    "y = gameP['plusMinusPoints']\n",
    "X_train, X_test, y_train, y_test = sklearn.model_selection.train_test_split(X, y, test_size=0.2, random_state=42)\n",
    "# applies standardization to the data same \n",
    "scaler = sklearn.preprocessing.StandardScaler()\n",
    "X_train = scaler.fit_transform(X_train)\n",
    "X_test = scaler.transform(X_test)\n",
    "\n",
    "xgb = XGBRegressor(n_estimators=100)\n",
    "xgb.fit(X_train, y_train)\n",
    "\n",
    "# Evaluate\n",
    "for model, name in zip([ xgb], [\"XGBoost\"]):\n",
    "    preds = model.predict(X_test)\n",
    "    r2_error=sklearn.metrics.r2_score(y_test, preds)\n",
    "    mean_sq=sklearn.metrics.mean_squared_error(y_test, preds)\n",
    "    errors_r2.append(r2_error)\n",
    "    errors_mse.append(mean_sq)\n",
    "    print(f\"{name} R2: {r2_error:.4f}, MSE: {mean_sq:.4f}\")\n",
    "    \n",
    "# justificar com o MSE tendo em conta os valores absolutos no qual a feature varia\n",
    "# analisar e comparar com outras features\n",
    "# justificar com os desvio do valor absoluto porque o R2 não tem em conta os valores absolutos "
   ]
  },
  {
   "cell_type": "markdown",
   "id": "fbdab1c1",
   "metadata": {},
   "source": [
    "# Main Model Trainning features\n",
    "- ⁠combinacoes de todos os matchups (ir buscar gameIds✅, vitoria/derrota✅ e estatisticas)\n",
    "- ⁠saber casa/fora\n",
    "- ⁠winningPercentage each player per matchup\n",
    "- ⁠impacto do jogador (output Model1)\n",
    "- ⁠Output TeamTag (percentage vitoria, derrota)"
   ]
  },
  {
   "cell_type": "code",
   "execution_count": 69,
   "id": "d788ac2e",
   "metadata": {},
   "outputs": [
    {
     "name": "stdout",
     "output_type": "stream",
     "text": [
      "[6.1847634]\n"
     ]
    }
   ],
   "source": [
    "season_year = 2013\n",
    "current_xgb = xgb # year_model.get(season_year)\n",
    "\n",
    "aggregation_dict = {\n",
    "    'WL': 68,\n",
    "    'minutesParsed': 40.0,\n",
    "    'points': 17.1,\n",
    "    'fieldGoalsPercentage': 48.1,\n",
    "    'threePointersPercentage': 35,\n",
    "    'reboundsTotal': 6.0,\n",
    "    'foulsPersonal': 2.6,\n",
    "    'turnovers': 8.0,\n",
    "    'fieldGoalsMade': 6.54,\n",
    "    'fieldGoalsAttempted': 14,\n",
    "    'steals': 1.8,\n",
    "    'gamesPlayed': 68\n",
    "}\n",
    "\n",
    "# Create DataFrame\n",
    "fake_player = pd.DataFrame([aggregation_dict])\n",
    "# Apply scaling\n",
    "fake_player_scaled = scaler.transform(fake_player)\n",
    "# Predict\n",
    "prediction_plus_minus = xgb.predict(fake_player_scaled)\n",
    "print(prediction_plus_minus)"
   ]
  },
  {
   "cell_type": "markdown",
   "id": "c201a516",
   "metadata": {},
   "source": [
    "# Próximos passos\n",
    "- Percentagem de vitória de cada jogador face a um matchup (Feature M2)\n",
    "- Output M1 (impacto jogador) \n",
    "- Team Abbreviation ()\n",
    "- Casa/Fora (Boolean)"
   ]
  }
 ],
 "metadata": {
  "kernelspec": {
   "display_name": "base",
   "language": "python",
   "name": "python3"
  },
  "language_info": {
   "codemirror_mode": {
    "name": "ipython",
    "version": 3
   },
   "file_extension": ".py",
   "mimetype": "text/x-python",
   "name": "python",
   "nbconvert_exporter": "python",
   "pygments_lexer": "ipython3",
   "version": "3.12.7"
  }
 },
 "nbformat": 4,
 "nbformat_minor": 5
}
